{
 "cells": [
  {
   "cell_type": "code",
   "execution_count": 1,
   "metadata": {},
   "outputs": [],
   "source": [
    "import pandas as pd\n",
    "import difflib"
   ]
  },
  {
   "cell_type": "code",
   "execution_count": 2,
   "metadata": {},
   "outputs": [],
   "source": [
    "dan = pd.read_csv(\"NetflixViewingHistoryDan.csv\")\n",
    "netflix = pd.read_csv(\"netflix_titles.csv\")"
   ]
  },
  {
   "cell_type": "code",
   "execution_count": 3,
   "metadata": {},
   "outputs": [
    {
     "data": {
      "text/plain": [
       "0                  [Big Time Rush, Big Time, Big Kill]\n",
       "1    [Monster Island, Monster House, Super Monsters...\n",
       "2                                                   []\n",
       "3                            [Brand New Cherry Flavor]\n",
       "4    [Starship Troopers: Traitor of Mars, Star Trek...\n",
       "5         [I Think You Should Leave with Tim Robinson]\n",
       "6                                                   []\n",
       "7         [I Think You Should Leave with Tim Robinson]\n",
       "8                                                   []\n",
       "9                                                   []\n",
       "Name: Title, dtype: object"
      ]
     },
     "execution_count": 3,
     "metadata": {},
     "output_type": "execute_result"
    }
   ],
   "source": [
    "bestMatches = dan['Title'].apply(lambda x: difflib.get_close_matches(x, netflix['title']))\n",
    "bestMatches.head(10)"
   ]
  },
  {
   "cell_type": "code",
   "execution_count": 4,
   "metadata": {},
   "outputs": [
    {
     "data": {
      "text/plain": [
       "[[array([\"Kids' TV\"], dtype=object),\n",
       "  array(['Documentaries'], dtype=object),\n",
       "  array(['Action & Adventure'], dtype=object)],\n",
       " [array(['Children & Family Movies'], dtype=object),\n",
       "  array(['Children & Family Movies, Comedies'], dtype=object),\n",
       "  array(['Children & Family Movies'], dtype=object)],\n",
       " [],\n",
       " [array(['TV Dramas, TV Horror, TV Mysteries'], dtype=object)],\n",
       " [array(['Action & Adventure, Sci-Fi & Fantasy'], dtype=object),\n",
       "  array(['Action & Adventure, Sci-Fi & Fantasy'], dtype=object),\n",
       "  array([\"Kids' TV\"], dtype=object)],\n",
       " [array(['TV Comedies'], dtype=object)],\n",
       " [],\n",
       " [array(['TV Comedies'], dtype=object)],\n",
       " [],\n",
       " []]"
      ]
     },
     "execution_count": 4,
     "metadata": {},
     "output_type": "execute_result"
    }
   ],
   "source": [
    "genres = []\n",
    "for i in range(len(bestMatches)):\n",
    "    itemGenres = []\n",
    "    for j in range(len(bestMatches[i])):\n",
    "        itemGenres.append(netflix['listed_in'].values[netflix['title'] == bestMatches[i][j]])\n",
    "    genres.append(itemGenres)\n",
    "genres[:10]"
   ]
  },
  {
   "cell_type": "code",
   "execution_count": 5,
   "metadata": {},
   "outputs": [
    {
     "data": {
      "text/plain": [
       "[\"Kids' TV\",\n",
       " 'Documentaries',\n",
       " 'Action & Adventure',\n",
       " 'Children & Family Movies',\n",
       " 'Children & Family Movies, Comedies',\n",
       " 'Children & Family Movies',\n",
       " 'TV Dramas, TV Horror, TV Mysteries',\n",
       " 'Action & Adventure, Sci-Fi & Fantasy',\n",
       " 'Action & Adventure, Sci-Fi & Fantasy',\n",
       " \"Kids' TV\"]"
      ]
     },
     "execution_count": 5,
     "metadata": {},
     "output_type": "execute_result"
    }
   ],
   "source": [
    "finalGenres = []\n",
    "for i in range(len(genres)):\n",
    "    for j in range(len(genres[i])):\n",
    "        for k in range(len(genres[i][j])):\n",
    "            finalGenres += list(genres[i][j])\n",
    "\n",
    "finalGenres[:10]"
   ]
  },
  {
   "cell_type": "code",
   "execution_count": 6,
   "metadata": {},
   "outputs": [
    {
     "data": {
      "text/plain": [
       "Stand-Up Comedy                       88\n",
       "Action & Adventure                    48\n",
       "TV Comedies                           39\n",
       "Docuseries                            34\n",
       "British TV Shows, Reality TV          33\n",
       "Dramas                                22\n",
       "Documentaries                         21\n",
       "Action & Adventure, Comedies          20\n",
       "Dramas, International Movies          19\n",
       "Children & Family Movies, Comedies    14\n",
       "dtype: int64"
      ]
     },
     "execution_count": 6,
     "metadata": {},
     "output_type": "execute_result"
    }
   ],
   "source": [
    "genreCounts = pd.Series(finalGenres).value_counts()\n",
    "genreCounts[:10]"
   ]
  },
  {
   "cell_type": "code",
   "execution_count": 7,
   "metadata": {},
   "outputs": [
    {
     "data": {
      "text/plain": [
       "['Stand-Up Comedy',\n",
       " 'Action & Adventure',\n",
       " 'TV Comedies',\n",
       " 'Docuseries',\n",
       " 'British TV Shows, Reality TV',\n",
       " 'Dramas',\n",
       " 'Documentaries',\n",
       " 'Action & Adventure, Comedies',\n",
       " 'Dramas, International Movies',\n",
       " 'Children & Family Movies, Comedies']"
      ]
     },
     "execution_count": 7,
     "metadata": {},
     "output_type": "execute_result"
    }
   ],
   "source": [
    "listOfGenres = list(genreCounts.keys())\n",
    "listOfGenres[:10]"
   ]
  },
  {
   "cell_type": "code",
   "execution_count": 8,
   "metadata": {},
   "outputs": [],
   "source": [
    "genresAndMovies = {}\n",
    "for i in range(netflix.shape[0]):\n",
    "    if not genresAndMovies.get(netflix.iloc[i]['listed_in']):\n",
    "        genresAndMovies[netflix.iloc[i]['listed_in']] = []\n",
    "    genresAndMovies[netflix.iloc[i]['listed_in']].append(netflix.iloc[i]['title'])\n",
    "#genresAndMovies"
   ]
  },
  {
   "cell_type": "code",
   "execution_count": 9,
   "metadata": {},
   "outputs": [],
   "source": [
    "closeMovies = {}\n",
    "for i in range(10):\n",
    "    key = listOfGenres[i]\n",
    "    movies = genresAndMovies.get(key)\n",
    "    closeMovies[key] = []\n",
    "    listOfLists = list(dan[\"Title\"].apply(lambda x: difflib.get_close_matches(x, movies)))\n",
    "    for subList in listOfLists:\n",
    "        closeMovies[key] += subList\n"
   ]
  },
  {
   "cell_type": "code",
   "execution_count": 10,
   "metadata": {},
   "outputs": [
    {
     "name": "stdout",
     "output_type": "stream",
     "text": [
      "Stand-Up Comedy\n",
      "['Jim Gaffigan: Obsessed', 'Jim Gaffigan: Cinco', 'Kevin Hart: Laugh at My Pain', 'Jim Jefferies: Intolerant', 'Jim Jefferies: Freedumb', 'Jim Gaffigan: King Baby', 'Hannibal Buress: Comedy Camisado', 'Trevor Noah: Son of Patricia', 'Patton Oswalt: Talking for Clapping', 'Jim Jefferies : BARE', 'Tom Segura: Completely Normal', 'Tom Segura: Mostly Stories', 'Bert Kreischer: Hey Big Boy', 'Trevor Noah: Afraid of the Dark', 'Kevin Hart: What Now?', 'Kevin Hart: Let Me Explain', 'Jim Gaffigan: Mr. Universe', 'Patton Oswalt: Annihilation', 'Tom Segura: Ball Hog', 'Bert Kreischer: The Machine']\n",
      "\n",
      "Action & Adventure\n",
      "['The Losers', 'The Saint', 'The Prince', 'The Art of War', 'The Peacemaker', 'Ninja Assassin', 'American Assassin', 'Kill Bill: Vol. 2', 'Olympus Has Fallen', 'Angel Has Fallen', 'Act of Valor', 'The Old Guard', 'The Hard Way', 'The Long Riders', 'The 2nd', 'Kill Bill: Vol. 1', 'Takers', 'Casino Royale', 'Pusher', 'Troy: The Odyssey']\n",
      "\n",
      "TV Comedies\n",
      "['The Office (U.S.)', 'The Parkers', 'I Think You Should Leave with Tim Robinson', 'The Crew', 'Documentary Now!', 'Parks and Recreation', 'The Guild', 'Netflix Presents: The Characters', 'The Fix', 'The Good Place', 'Arrested Development', 'The Upshaws', 'The Midnight Gospel', '30 Rock', 'Brews Brothers', 'Space Force']\n",
      "\n",
      "Docuseries\n",
      "['Formula 1: Drive to Survive', 'The Eighties', 'Last Chance U: Basketball', 'The Nineties', 'The Playbook', 'The Chef Show', 'The Family', '7 Days Out', 'We Are: The Brooklyn Saints', 'The Last Dance', 'The Seventies', 'Empire Games']\n",
      "\n",
      "British TV Shows, Reality TV\n",
      "['The Great British Baking Show: Holidays', 'The Great British Baking Show: Masterclass', 'The Great British Baking Show', 'The Great British Baking Show: The Beginnings', 'The Repair Shop', 'The Big Catch', 'Operation Gold Rush']\n",
      "\n",
      "Dramas\n",
      "['The Founder', 'The Daughter', 'The Show', 'The Duel', 'The Irishman', 'The Stolen', 'The King', 'The Pirates of Somalia', 'The Sea of Trees', 'The Midnight Sky', 'True to the Game', 'The Last Face', 'The Highwaymen', 'The Bachelors', 'Recall', 'The Help', 'Badland', 'Center Stage', 'Collateral Beauty', 'Rocks']\n",
      "\n",
      "Documentaries\n",
      "['The Force', 'The C Word', 'The Bomb', 'Chasing Coral', 'The Pursuit', 'For the Birds', 'The Ivory Game', 'National Bird', 'The Last Days', 'Theo Who Lived', 'The Seven Five', 'The Pixar Story', 'The Last Resort', 'The Most Unknown', 'Big Time', 'American Experience: The Island Murder', 'Fire in Paradise', 'The Surrounding Game', 'The Devil We Know', 'End Game']\n",
      "\n",
      "Action & Adventure, Comedies\n",
      "['The Do-Over', 'The Parole Officer', \"Ocean's Thirteen\", 'The Tuxedo', 'Blue Streak', \"Ocean's Twelve\", 'Thunder Force', 'The Interview', 'The Dukes of Hazzard', 'American Ultra', 'True Memoirs of an International Assassin', 'Due Date', 'The Other Guys', 'Skiptrace', 'The Paper Tigers', 'Bad Boys II', 'Spenser Confidential', 'Spider-Man: Into the Spider-Verse', 'I Got the Hook Up', 'Bad Boys']\n",
      "\n",
      "Dramas, International Movies\n",
      "['The Dreamer', 'The Giant', 'The Emigrant', 'The Lion Woman', 'The Promise', 'The Dig', 'The Tenth Man', 'The Water Diviner', 'The Railway Man', \"The King's Speech\", 'The Jungle School', 'Strain', 'The Eichmann Show', 'The Mayor', 'Reaction', 'The Art of Loving', 'Black Rose', 'Killa', 'Clash', 'Sarajevo']\n",
      "\n",
      "Children & Family Movies, Comedies\n",
      "['Bratz: The Movie', 'Jungle Beat: The Movie', 'The Nut Job', 'The Pink Panther', 'Leo the Lion', 'Big Fat Liar', 'Muppets Most Wanted', 'The Rugrats Movie', 'Chicken Little', 'The Smurfs', 'Charming', 'The Guardian Brothers', 'Ghost Patrol', 'Bobbleheads The Movie', 'Rugrats in Paris: The Movie', 'John Mulaney & The Sack Lunch Bunch', 'The Flintstones', 'Monster House', 'Fearless', 'The Incredibles 2']\n",
      "\n"
     ]
    }
   ],
   "source": [
    "for key, value in closeMovies.items():\n",
    "    print(key)\n",
    "    print(list(pd.Series(value).value_counts().keys())[:20])\n",
    "    print()"
   ]
  },
  {
   "cell_type": "code",
   "execution_count": null,
   "metadata": {},
   "outputs": [],
   "source": []
  }
 ],
 "metadata": {
  "interpreter": {
   "hash": "b0fa6594d8f4cbf19f97940f81e996739fb7646882a419484c72d19e05852a7e"
  },
  "kernelspec": {
   "display_name": "Python 3.9.10 64-bit",
   "language": "python",
   "name": "python3"
  },
  "language_info": {
   "codemirror_mode": {
    "name": "ipython",
    "version": 3
   },
   "file_extension": ".py",
   "mimetype": "text/x-python",
   "name": "python",
   "nbconvert_exporter": "python",
   "pygments_lexer": "ipython3",
   "version": "3.9.10"
  },
  "orig_nbformat": 4
 },
 "nbformat": 4,
 "nbformat_minor": 2
}
