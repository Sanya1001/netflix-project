{
 "cells": [
  {
   "cell_type": "code",
   "execution_count": null,
   "metadata": {},
   "outputs": [],
   "source": [
    "import pandas as pd\n",
    "import numpy as np\n",
    "from jarrett_cleaning import clean_history"
   ]
  },
  {
   "cell_type": "code",
   "execution_count": null,
   "metadata": {},
   "outputs": [],
   "source": [
    "dan = pd.read_csv(\"NetflixViewingHistoryDan.csv\")\n",
    "netflix = pd.read_csv(\"netflix_titles.csv\")"
   ]
  },
  {
   "cell_type": "code",
   "execution_count": null,
   "metadata": {},
   "outputs": [],
   "source": [
    "import difflib"
   ]
  },
  {
   "cell_type": "code",
   "execution_count": null,
   "metadata": {},
   "outputs": [],
   "source": [
    "best_matches = dan['Title'].apply(lambda x: difflib.get_close_matches(x, netflix['title']))"
   ]
  },
  {
   "cell_type": "code",
   "execution_count": null,
   "metadata": {},
   "outputs": [],
   "source": [
    "best_matches"
   ]
  },
  {
   "cell_type": "code",
   "execution_count": null,
   "metadata": {},
   "outputs": [],
   "source": [
    "genres = []\n",
    "for i in range(len(best_matches)):\n",
    "    item_genres = []\n",
    "    for j in range(len(best_matches[i])):\n",
    "        item_genres.append(netflix['listed_in'].values[netflix['title'] == best_matches[i][j]])\n",
    "    genres.append(item_genres)"
   ]
  },
  {
   "cell_type": "code",
   "execution_count": null,
   "metadata": {},
   "outputs": [],
   "source": [
    "genres"
   ]
  },
  {
   "cell_type": "code",
   "execution_count": null,
   "metadata": {},
   "outputs": [],
   "source": [
    "final_genres = []\n",
    "for i in range(len(genres)):\n",
    "    #movie = []\n",
    "    for j in range(len(genres[i])):\n",
    "        for k in range(len(genres[i][j])):\n",
    "            #movie += genres[i][j]\n",
    "            final_genres += list(genres[i][j])\n",
    "            #print(genres[i][j])\n",
    "    #final_genres += movie"
   ]
  },
  {
   "cell_type": "code",
   "execution_count": null,
   "metadata": {},
   "outputs": [],
   "source": [
    "final_genres"
   ]
  },
  {
   "cell_type": "code",
   "execution_count": null,
   "metadata": {},
   "outputs": [],
   "source": [
    "all_genres = []\n",
    "for movie in final_genres:\n",
    "    all_genres.append(movie)"
   ]
  },
  {
   "cell_type": "code",
   "execution_count": null,
   "metadata": {},
   "outputs": [],
   "source": [
    "all_genres = pd.Series(all_genres)\n",
    "all_genres.value_counts()"
   ]
  },
  {
   "cell_type": "code",
   "execution_count": null,
   "metadata": {},
   "outputs": [],
   "source": [
    "genre_values = all_genres.value_counts()\n",
    "genres_keys = list(genre_values.keys())\n",
    "genres_keys"
   ]
  },
  {
   "cell_type": "code",
   "execution_count": null,
   "metadata": {},
   "outputs": [],
   "source": [
    "genres_movies = {}\n",
    "#for genre in genres_keys:\n",
    "    #genres_movies[genre] = []\n",
    "for i in range(netflix.shape[0]):\n",
    "    if not genres_movies.get(netflix.iloc[i]['listed_in']):\n",
    "        genres_movies[netflix.iloc[i]['listed_in']] = []\n",
    "    genres_movies[netflix.iloc[i]['listed_in']].append(netflix.iloc[i]['title'])"
   ]
  },
  {
   "cell_type": "code",
   "execution_count": null,
   "metadata": {},
   "outputs": [],
   "source": [
    "genres_movies"
   ]
  },
  {
   "cell_type": "code",
   "execution_count": null,
   "metadata": {},
   "outputs": [],
   "source": [
    "np.floor(len(genres_keys) * .10)"
   ]
  },
  {
   "cell_type": "code",
   "execution_count": null,
   "metadata": {},
   "outputs": [],
   "source": [
    "for i in range(int(np.floor(len(genres_keys) * .10))):\n",
    "    print(\"\\n\", genres_keys[i])\n",
    "    print(np.random.choice(genres_movies[genres_keys[i]], 5))"
   ]
  },
  {
   "cell_type": "code",
   "execution_count": null,
   "metadata": {},
   "outputs": [],
   "source": []
  }
 ],
 "metadata": {
  "interpreter": {
   "hash": "b0fa6594d8f4cbf19f97940f81e996739fb7646882a419484c72d19e05852a7e"
  },
  "kernelspec": {
   "display_name": "Python 3.9.10 64-bit",
   "language": "python",
   "name": "python3"
  },
  "language_info": {
   "codemirror_mode": {
    "name": "ipython",
    "version": 3
   },
   "file_extension": ".py",
   "mimetype": "text/x-python",
   "name": "python",
   "nbconvert_exporter": "python",
   "pygments_lexer": "ipython3",
   "version": "3.9.10"
  },
  "orig_nbformat": 4
 },
 "nbformat": 4,
 "nbformat_minor": 2
}
