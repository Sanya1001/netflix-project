{
 "cells": [
  {
   "cell_type": "markdown",
   "source": [
    "This notebook is meant to take a netflix watch history and create a \"homepage\" where multiple genres/categories are shown and then for each of those, movies are recommended"
   ],
   "metadata": {
    "collapsed": false,
    "pycharm": {
     "name": "#%% md\n"
    }
   }
  },
  {
   "cell_type": "code",
   "execution_count": null,
   "outputs": [],
   "source": [
    "# This imports pandas and difflib, difflib is a standard library that checks for differences between strings\n",
    "\n",
    "import pandas as pd\n",
    "import difflib"
   ],
   "metadata": {
    "collapsed": false,
    "pycharm": {
     "name": "#%%\n"
    }
   }
  },
  {
   "cell_type": "code",
   "execution_count": null,
   "outputs": [],
   "source": [
    "# Importing my watch history, and the netflix data\n",
    "\n",
    "dan = pd.read_csv(\"NetflixViewingHistoryDan.csv\")\n",
    "netflix = pd.read_csv(\"netflix_titles.csv\")"
   ],
   "metadata": {
    "collapsed": false,
    "pycharm": {
     "name": "#%%\n"
    }
   }
  },
  {
   "cell_type": "code",
   "execution_count": null,
   "outputs": [],
   "source": [
    "# This cell applies a lambda function to each movie in the watch history that will find all the matches with a similarity\n",
    "# ratio above .6 and return it into a pandas series object where each element is a list of movies from the netflix data\n",
    "\n",
    "bestMatches = dan['Title'].apply(lambda x: difflib.get_close_matches(x, netflix['title']))\n",
    "bestMatches.head(10)"
   ],
   "metadata": {
    "collapsed": false,
    "pycharm": {
     "name": "#%%\n"
    }
   }
  },
  {
   "cell_type": "code",
   "execution_count": null,
   "outputs": [],
   "source": [
    "# This cell loops through the series of lists and then the lists and finds the genre of the similar movies and\n",
    "# then adds those similar movies' genres to the list of genres\n",
    "\n",
    "genres = []\n",
    "for i in range(len(bestMatches)): # loop through series\n",
    "    itemGenres = []\n",
    "    for j in range(len(bestMatches[i])): #loop through list of similar movies\n",
    "        itemGenres.append(netflix['listed_in'].values[netflix['title'] == bestMatches[i][j]]) #finds movie and appends\n",
    "    if len(itemGenres) > 0: #if similar movies and their genres were found\n",
    "        for arr in itemGenres: #loops through list of arrays of genres\n",
    "            genres += arr[0].replace(\" \", \"\").split(\",\") #remove white space and splits string to list and adds to genres\n",
    "genres[:10]"
   ],
   "metadata": {
    "collapsed": false,
    "pycharm": {
     "name": "#%%\n"
    }
   }
  },
  {
   "cell_type": "code",
   "execution_count": null,
   "outputs": [],
   "source": [
    "# This cell turns the list of genres into a series in order to use value_counts to find the most common genre\n",
    "\n",
    "genreCounts = pd.Series(genres).value_counts()\n",
    "genreCounts[:10]"
   ],
   "metadata": {
    "collapsed": false,
    "pycharm": {
     "name": "#%%\n"
    }
   }
  },
  {
   "cell_type": "code",
   "execution_count": null,
   "outputs": [],
   "source": [
    "# This cells takes the value counts and extracts the keys (genres) from the value_counts in order to search for the\n",
    "# genres in the netflix data\n",
    "\n",
    "listOfGenres = list(genreCounts.keys())\n",
    "listOfGenres[:10]"
   ],
   "metadata": {
    "collapsed": false,
    "pycharm": {
     "name": "#%%\n"
    }
   }
  },
  {
   "cell_type": "code",
   "execution_count": null,
   "outputs": [],
   "source": [
    "# This cell loops through all of the rows in the netflix data and adds each movie to the dictionary where\n",
    "# the keys are the genres\n",
    "\n",
    "genresAndMovies = {}\n",
    "for i in range(netflix.shape[0]): #loop through length of netflix data\n",
    "    for gen in netflix.iloc[i]['listed_in'].replace(\" \", \"\").split(\",\"): #splits each row's listed in into list, loops through\n",
    "        if not genresAndMovies.get(gen): #if genre not in dict, add it\n",
    "            genresAndMovies[gen] = []\n",
    "        genresAndMovies[gen].append(netflix.iloc[i]['title']) #append movie to each genres' list\n",
    "#genresAndMovies"
   ],
   "metadata": {
    "collapsed": false,
    "pycharm": {
     "name": "#%%\n"
    }
   }
  },
  {
   "cell_type": "code",
   "execution_count": null,
   "outputs": [],
   "source": [
    "# This loops through the top 10 most common genres and then finds the movies with similarity to the users' watch history\n",
    "\n",
    "closeMovies = {}\n",
    "for i in range(10): #loops through top 10 genres\n",
    "    key = listOfGenres[i] #key is the genre\n",
    "    movies = genresAndMovies.get(key) #gets the list of movies for the genre\n",
    "    closeMovies[key] = [] #sets genre equal to empty list fo teh similar movies\n",
    "    listOfLists = list(dan[\"Title\"].apply(lambda x: difflib.get_close_matches(x, movies))) #list of lists of similar\n",
    "    for subList in listOfLists: #loops through lists of lists and adds sublist items to the closeMovies list\n",
    "        closeMovies[key] += subList\n"
   ],
   "metadata": {
    "collapsed": false,
    "pycharm": {
     "name": "#%%\n"
    }
   }
  },
  {
   "cell_type": "code",
   "execution_count": null,
   "outputs": [],
   "source": [
    "# This loops through the similar movies and displays the top 20 (if not 20, as many as there are) and the genre\n",
    "\n",
    "for key, value in closeMovies.items(): #loop through dict\n",
    "    print(key) #print genre\n",
    "    print(list(pd.Series(value).value_counts().keys())[:20]) #print the list of top 20\n",
    "    print() #new line for spacing"
   ],
   "metadata": {
    "collapsed": false,
    "pycharm": {
     "name": "#%%\n"
    }
   }
  },
  {
   "cell_type": "code",
   "execution_count": null,
   "metadata": {},
   "outputs": [],
   "source": []
  }
 ],
 "metadata": {
  "interpreter": {
   "hash": "b0fa6594d8f4cbf19f97940f81e996739fb7646882a419484c72d19e05852a7e"
  },
  "kernelspec": {
   "display_name": "Python 3",
   "language": "python",
   "name": "python3"
  },
  "language_info": {
   "codemirror_mode": {
    "name": "ipython",
    "version": 3
   },
   "file_extension": ".py",
   "mimetype": "text/x-python",
   "name": "python",
   "nbconvert_exporter": "python",
   "pygments_lexer": "ipython3",
   "version": "3.8.8"
  }
 },
 "nbformat": 4,
 "nbformat_minor": 2
}