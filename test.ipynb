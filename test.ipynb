{
 "cells": [
  {
   "cell_type": "code",
   "execution_count": 1,
   "metadata": {},
   "outputs": [],
   "source": [
    "from homepage_function import MakeHomePage"
   ]
  },
  {
   "cell_type": "code",
   "execution_count": 2,
   "metadata": {},
   "outputs": [
    {
     "name": "stdout",
     "output_type": "stream",
     "text": [
      "TV Comedies\n",
      "['The Office (U.S.)', 'The Parkers', 'Unbreakable Kimmy Schmidt', 'The Crew', 'The Guild', 'The Fix', 'The Good Place', 'Parks and Recreation', 'The Last O.G.', 'Maron', 'Brews Brothers', 'Major Dad', 'The Upshaws', 'Merry Happy Whatever', 'Great News', 'Young & Hungry', 'F is for Family']\n",
      "\n",
      "Children & Family Movies, Comedies\n",
      "['The Christmas Project', 'Abominable Christmas', 'The Pink Panther', 'The Nut Job', '48 Christmas Wishes', 'The Christmas Chronicles', \"Dr. Seuss' The Cat in the Hat\", 'The Flintstones', 'Open Season 2', 'Open Season: Scared Silly', 'Bratz: The Movie', 'Arthur Christmas', 'A StoryBots Christmas', 'The Croods', 'Shorts', \"Dr. Seuss' The Grinch\", 'The Incredibles 2', 'Leo the Lion', 'Rango', 'The Yeti Adventures']\n",
      "\n",
      "TV Comedies, TV Dramas\n",
      "['Grace and Frankie', 'Orange Is the New Black', 'The Chair', 'Shameless (U.S.)', 'The Unicorn', 'Living with Yourself', 'The Ranch', 'Private Practice', 'The Kominsky Method']\n",
      "\n",
      "Comedies, Romantic Movies\n",
      "['The Four Seasons', 'The Last Summer', 'Four Christmases', 'Christmas Crush', 'A California Christmas', 'The Kissing Booth', 'The Perfect Date', 'Legally Blonde', 'You Can’t Fight Christmas', 'Wild Child', 'The Kissing Booth 3', 'The Kissing Booth 2', 'The Competition', 'The Heartbreak Kid', \"Valentine's Day\", 'The Prince & Me', 'To All The Boys: Always And Forever', \"My Boss's Daughter\", 'The Nutty Professor', 'Good on Paper']\n",
      "\n",
      "Comedies\n",
      "['Unbreakable Kimmy Schmidt: Kimmy vs. the Reverend', 'The Trap', 'The D Train', 'Fall Girls', 'The Late Bloomer', 'Mean Girls 2', 'A Bad Moms Christmas', 'The Outcasts', 'The Package', 'SMOSH: The Movie', 'Movie 43', 'The Trip to Spain', 'Step Sisters', 'Step Brothers', 'Christmas Survival', 'The F**k-It List', 'Major Payne', 'The Bad Education Movie', 'One Last Shot', 'Between Two Ferns: The Movie']\n",
      "\n",
      "Action & Adventure\n",
      "['The Saint', 'The Losers', 'The Prince', 'The Long Riders', 'The November Man', 'Extraction', 'American Assassin', 'The Art of War', 'The Peacemaker', 'The Debt Collector', 'Skylines', 'American Outlaws', 'Hunt to Kill', 'Kickboxer: Retaliation', 'I Am Vengeance: Retaliation', 'Olympus Has Fallen', 'Angel Has Fallen', 'End of Watch', 'Haywire', 'The Hard Way']\n",
      "\n",
      "Dramas, International Movies\n",
      "['The Giant', 'The Lost Brother', 'The Mayor', 'The Dreamer', 'The Lost Café', 'The Promise', 'The Lion Woman', 'The last hour', 'The Dig', 'The Present', 'The Bling Lagosians', 'The Arbitration', 'The Set Up', 'The Desert Bride', 'Calendar Girls', \"The King's Speech\", 'The Memory of Water', 'The Emigrant', 'The Tenth Man', 'The First Lady']\n",
      "\n",
      "TV Horror, TV Mysteries, TV Thrillers\n",
      "['American Horror Story', 'Slasher']\n",
      "\n",
      "TV Comedies, TV Dramas, Teen TV Shows\n",
      "['Gilmore Girls: A Year in the Life', 'The Politician', 'Never Have I Ever', 'Glee', 'Everything Sucks!']\n",
      "\n",
      "Dramas, Independent Movies, International Movies\n",
      "['The Visit', 'The Pianist', 'The Model', 'Fan Girl', 'The spiral', 'Mater', 'The Son', 'The Endless Trench', 'The Blind Christ', 'The Skin of the Wolf', 'The Little Wars', 'The Lift Boy', 'Brother', 'The Disciple', 'Imago', 'Below Her Mouth', 'The Rehearsal', 'Homeland', 'The Land of Cards', 'Lady J']\n",
      "\n"
     ]
    }
   ],
   "source": [
    "MakeHomePage(\"NetflixViewingHistoryHome.csv\")"
   ]
  },
  {
   "cell_type": "code",
   "execution_count": null,
   "metadata": {},
   "outputs": [],
   "source": []
  }
 ],
 "metadata": {
  "interpreter": {
   "hash": "b0fa6594d8f4cbf19f97940f81e996739fb7646882a419484c72d19e05852a7e"
  },
  "kernelspec": {
   "display_name": "Python 3.9.10 64-bit",
   "language": "python",
   "name": "python3"
  },
  "language_info": {
   "codemirror_mode": {
    "name": "ipython",
    "version": 3
   },
   "file_extension": ".py",
   "mimetype": "text/x-python",
   "name": "python",
   "nbconvert_exporter": "python",
   "pygments_lexer": "ipython3",
   "version": "3.9.10"
  },
  "orig_nbformat": 4
 },
 "nbformat": 4,
 "nbformat_minor": 2
}
