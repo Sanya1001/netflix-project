{
 "cells": [
  {
   "cell_type": "markdown",
   "id": "fd00e993",
   "metadata": {},
   "source": [
    "Name: Keara Hayes"
   ]
  },
  {
   "cell_type": "markdown",
   "id": "765c5d27",
   "metadata": {},
   "source": [
    "# Due 4/26/2022"
   ]
  },
  {
   "cell_type": "code",
   "execution_count": 77,
   "id": "70ab8d20",
   "metadata": {},
   "outputs": [],
   "source": [
    "import pandas as pd\n",
    "from sklearn.feature_extraction.text import TfidfVectorizer\n",
    "from sklearn.metrics.pairwise import linear_kernel\n",
    "import numpy as np"
   ]
  },
  {
   "cell_type": "markdown",
   "id": "d4e8e268",
   "metadata": {},
   "source": [
    "Using a Netflix database CSV, we can use TFIDF or \"term frequency–inverse document frequency\" to recommend what to watch next based on what you've just finished. TFIDF looks at the frequency with which words appear to give similarity scores. This code expands and improves [this code](https://colab.research.google.com/drive/1NkUvrLdIQ_QoSl4kfP6XQvWC4xsU-2Ic#sandboxMode=true), which is based on a workshop given by Rounak Banik. The example code (found by Sania) is simplistic and does not give sophisticated recommendations. This new and improved code takes ideas and techniques presented there and expands them."
   ]
  },
  {
   "cell_type": "markdown",
   "id": "c5452395",
   "metadata": {},
   "source": [
    "To start, input the name of the movie/show you've just watched."
   ]
  },
  {
   "cell_type": "code",
   "execution_count": 115,
   "id": "6427540d",
   "metadata": {},
   "outputs": [],
   "source": [
    "# input a movie or TV show title\n",
    "\n",
    "title = 'Star Trek'"
   ]
  },
  {
   "cell_type": "markdown",
   "id": "3cbe0196",
   "metadata": {},
   "source": [
    "Next, the database we've been using needs to be loaded in. That database can be found [here](https://www.kaggle.com/datasets/shivamb/netflix-shows). "
   ]
  },
  {
   "cell_type": "code",
   "execution_count": 116,
   "id": "0ed82563",
   "metadata": {},
   "outputs": [],
   "source": [
    "# load in the Netflix library\n",
    "netflix = pd.read_csv(\"netflix_titles.csv\")"
   ]
  },
  {
   "cell_type": "markdown",
   "id": "049de6b5",
   "metadata": {},
   "source": [
    "Next, the database needs some cleaning. Unimportant columns, like the date it was added to Netflix, the duration of the movie/film, etc are dropped. NaNs are filled with empty strings to prevent errors."
   ]
  },
  {
   "cell_type": "code",
   "execution_count": 117,
   "id": "7e570928",
   "metadata": {},
   "outputs": [],
   "source": [
    "# take out some of the things we care less about\n",
    "netflix_simple = netflix.drop(['date_added', 'release_year', 'duration'], axis = 1)\n",
    "\n",
    "# fill in any NaNs with empty strings so the vectorizing doesn't break\n",
    "netflix_simple.fillna(\"\", inplace=True)"
   ]
  },
  {
   "cell_type": "markdown",
   "id": "cfb513f6",
   "metadata": {},
   "source": [
    "Here we begin pulling our sorting categories. The simplest ones to use with sklearn's TFIDF are the title and description, which are merged together into a single category."
   ]
  },
  {
   "cell_type": "code",
   "execution_count": 125,
   "id": "1d1df10d",
   "metadata": {},
   "outputs": [],
   "source": [
    "# things that don't need extra manipulation\n",
    "titledesc = netflix_simple['description'] + netflix_simple['title']"
   ]
  },
  {
   "attachments": {},
   "cell_type": "markdown",
   "id": "631f56e5",
   "metadata": {},
   "source": [
    "Sklearn struggles with some of the categories, though. For example, in the case of the cast, actors tend to have multiple names which need to stay together. If they are tokenized separately though, you lose a lot of information. For example, Gates McFadden is an actress in *Star Trek: The Next Generation*, and Bill Gates appears in the documentary *Inside Bill's Brain: Decoding Bill Gates*. If sklearn is allowed to run unaided, watching *TNG* will reccommend the Bill Gates documentary based solely on the fact that *Gates* appears in both of their names."
   ]
  },
  {
   "cell_type": "markdown",
   "id": "7b340b85",
   "metadata": {},
   "source": [
    "To solve this, for both the director column and the cast column, all the whitespace is removed so that actors' names are one \"word,\" which means they are tokenized properly."
   ]
  },
  {
   "cell_type": "code",
   "execution_count": 118,
   "id": "33f16b16",
   "metadata": {},
   "outputs": [],
   "source": [
    "# things that do need some help, since they contain multiword tokens\n",
    "# what we're doing here is removing all the whitespace so that when we tokenize, there's \n",
    "# no worry about individual words being tokens instead of full names\n",
    "\n",
    "for i in range(len(netflix_simple['cast'])):\n",
    "    netflix_simple['cast'].iloc[i] = netflix_simple['cast'].iloc[i].replace(\" \", \"\")\n",
    "    netflix_simple['director'].iloc[i] = netflix_simple['director'].iloc[i].replace(\" \", \"\")"
   ]
  },
  {
   "cell_type": "code",
   "execution_count": 119,
   "id": "22f7ce52",
   "metadata": {},
   "outputs": [],
   "source": [
    "# like before, assign the colmns to variables so things are cleaner\n",
    "cast = netflix_simple['cast']\n",
    "director = netflix_simple['director']"
   ]
  },
  {
   "cell_type": "markdown",
   "id": "c9666508",
   "metadata": {},
   "source": [
    "Then the columns need to be \"vectorized.\" They have a \"direction\" (the token, for example, the word \"star\") and a magnitude (the frequency with which that word appears)."
   ]
  },
  {
   "cell_type": "code",
   "execution_count": 120,
   "id": "7143cb06",
   "metadata": {},
   "outputs": [],
   "source": [
    "# Create tfidf vectorizer:\n",
    "tf = TfidfVectorizer(analyzer='word', ngram_range=(1, 2), min_df=0, stop_words='english')\n",
    "\n",
    "# Use vectorizer to create tfidf matrix.\n",
    "tfidf_titledesc = tf.fit_transform(titledesc)\n",
    "tfidf_cast = tf.fit_transform(cast)\n",
    "tfidf_director = tf.fit_transform(director)"
   ]
  },
  {
   "cell_type": "markdown",
   "id": "6369448e",
   "metadata": {},
   "source": [
    "Based on those vectors, titles are given similarity scores relative to each other. These are matrices that show how similar entries are based on the different categories."
   ]
  },
  {
   "cell_type": "code",
   "execution_count": 121,
   "id": "2eec78d0",
   "metadata": {},
   "outputs": [],
   "source": [
    "# Compute the similarity matrix so we know how similar the given movie is to the others available\n",
    "sim_titledesc = linear_kernel(tfidf_titledesc, tfidf_titledesc)\n",
    "sim_cast = linear_kernel(tfidf_cast, tfidf_cast)\n",
    "sim_director = linear_kernel(tfidf_director, tfidf_director)"
   ]
  },
  {
   "cell_type": "markdown",
   "id": "cc00ae68",
   "metadata": {},
   "source": [
    "We'll set aside what categories we intend to use."
   ]
  },
  {
   "cell_type": "code",
   "execution_count": 122,
   "id": "c64ea7a0",
   "metadata": {},
   "outputs": [],
   "source": [
    "# all the things we'll be using for the ranking\n",
    "metrics = [sim_titledesc, sim_cast, sim_director]"
   ]
  },
  {
   "cell_type": "markdown",
   "id": "44dc5215",
   "metadata": {},
   "source": [
    "Here, we reset the index to use the titles of the movies to make searching easier."
   ]
  },
  {
   "cell_type": "code",
   "execution_count": 123,
   "id": "5a0ea60b",
   "metadata": {},
   "outputs": [],
   "source": [
    "netflix_simple.reset_index(inplace=True)\n",
    "\n",
    "# reindex according to title so that the indexing later is easier\n",
    "indices = pd.Series(netflix_simple.index, index=netflix_simple['title'])"
   ]
  },
  {
   "cell_type": "markdown",
   "id": "d66f1494",
   "metadata": {},
   "source": [
    "And here is the real meat of the recommendations. In short, each category (title + description, cast, and director) is used to create a list of contenders, along with their similarity scores. These similarity scores are added for each recommended entry, and the movie/show that has the high score overall is recommended."
   ]
  },
  {
   "cell_type": "code",
   "execution_count": 126,
   "id": "d2789a4e",
   "metadata": {},
   "outputs": [
    {
     "name": "stdout",
     "output_type": "stream",
     "text": [
      "[5244. 5650. 5693. 4946.  592. 5245. 6902. 2005. 4060. 3994. 5693. 6749.\n",
      " 3517. 7757. 8354. 5252. 3100. 5848. 6017. 7891.    0.    1.    2.    3.\n",
      "    4.    5.    6.    7.    8.    9.]\n"
     ]
    }
   ],
   "source": [
    "# this loop will take all the rating categories and combine them into a final \n",
    "# recommendation list\n",
    "\n",
    "# this is the title you input at the top of the notebook\n",
    "# it is used on the reindexed database to pull the information for that entry\n",
    "index = indices[title]\n",
    "\n",
    "# an empty array to append to in the loop\n",
    "contenders = np.zeros((9,2))\n",
    "\n",
    "for i in metrics:\n",
    "    \n",
    "    # for a given category, find the input movie\n",
    "    row = i[index]\n",
    "    \n",
    "    # pull the similarity scores for that movie\n",
    "    sim_scores = list(enumerate(row))\n",
    "    \n",
    "    # sort the scores, highest score first\n",
    "    sim_scores = sorted(sim_scores, key=lambda x: x[1], reverse=True)\n",
    "    \n",
    "    # keep the top 10 entries; entry 0 is excluded because that will always\n",
    "    # be the input title\n",
    "    closest_matches = sim_scores[1:11]\n",
    "    \n",
    "    # get the numerical indices for the movies\n",
    "    movie_indices = [i[0] for i in closest_matches]\n",
    "    \n",
    "    # turn the closest matches into an array\n",
    "    contenders2 = np.array(closest_matches)\n",
    "    \n",
    "    # concatenate to the blank array so we can compile the similarity scores later\n",
    "    contenders = np.concatenate((contenders, contenders2))\n",
    "    \n",
    "# exclude the 0 entries from when we made the \"empty\" array earlier;\n",
    "# keeping them will break the recommendations\n",
    "contenders = contenders[9:,:]\n",
    "    \n",
    "\n",
    "net = contenders[:,0]\n",
    "\n",
    "finalists = np.zeros((len(contenders), 2))\n",
    "\n",
    "for i in range(len(net)):\n",
    "    ind = np.where(contenders[:,0] == net[i])\n",
    "    finalists[i,0] = net[i]\n",
    "    finalists[i,1] = np.sum(contenders[ind,1])\n",
    "\n",
    "finalists = np.unique(finalists, axis = 0)\n",
    "\n",
    "ind = finalists[np.where(finalists[:,1] == max(finalists[:,1]))]\n",
    "\n",
    "ind = int(ind[0,0])\n",
    "\n",
    "print(netflix_simple.iloc[ind]['title'])\n",
    "\n",
    "# print(net)"
   ]
  },
  {
   "cell_type": "markdown",
   "id": "1b853eb2",
   "metadata": {},
   "source": [
    "# Under here is testing code that can be deleted once everything else is finalized"
   ]
  },
  {
   "cell_type": "code",
   "execution_count": 69,
   "id": "85950c17",
   "metadata": {},
   "outputs": [],
   "source": [
    "# Get the movie's index based on its title:\n",
    "index = indices[\"Star Trek\"]\n",
    "\n",
    "# Use that index to get the similarities matrix row\n",
    "# that gives a similarity score for this movie\n",
    "# compared to each other movie:\n",
    "row = sim_cast[index]"
   ]
  },
  {
   "cell_type": "code",
   "execution_count": 70,
   "id": "735202ed",
   "metadata": {},
   "outputs": [],
   "source": [
    "# Convert that row to a list of (movie_row, similarity_score) pairs:\n",
    "sim_scores = list(enumerate(row))"
   ]
  },
  {
   "cell_type": "code",
   "execution_count": 71,
   "id": "febf7f58",
   "metadata": {},
   "outputs": [],
   "source": [
    "# Sort the (movie_row, similarity_score) pairs by similarity score:\n",
    "sim_scores = sorted(sim_scores, key=lambda x: x[1], reverse=True)"
   ]
  },
  {
   "cell_type": "code",
   "execution_count": 72,
   "id": "205c3bd4",
   "metadata": {},
   "outputs": [],
   "source": [
    "# Get the top 10 (movie_row, similarity_score) pairs:\n",
    "closest_matches = sim_scores[1:10]"
   ]
  },
  {
   "cell_type": "code",
   "execution_count": 76,
   "id": "79673810",
   "metadata": {},
   "outputs": [
    {
     "data": {
      "text/plain": [
       "(9, 2)"
      ]
     },
     "execution_count": 76,
     "metadata": {},
     "output_type": "execute_result"
    }
   ],
   "source": [
    "np.set_printoptions(suppress=True)\n",
    "\n",
    "movie_indices = [i[0] for i in closest_matches]\n",
    "\n",
    "contenders = np.array(closest_matches)\n",
    "\n",
    "contenders.shape"
   ]
  },
  {
   "cell_type": "code",
   "execution_count": 74,
   "id": "329941e3",
   "metadata": {},
   "outputs": [
    {
     "data": {
      "text/html": [
       "<div>\n",
       "<style scoped>\n",
       "    .dataframe tbody tr th:only-of-type {\n",
       "        vertical-align: middle;\n",
       "    }\n",
       "\n",
       "    .dataframe tbody tr th {\n",
       "        vertical-align: top;\n",
       "    }\n",
       "\n",
       "    .dataframe thead th {\n",
       "        text-align: right;\n",
       "    }\n",
       "</style>\n",
       "<table border=\"1\" class=\"dataframe\">\n",
       "  <thead>\n",
       "    <tr style=\"text-align: right;\">\n",
       "      <th></th>\n",
       "      <th>index</th>\n",
       "      <th>show_id</th>\n",
       "      <th>type</th>\n",
       "      <th>title</th>\n",
       "      <th>director</th>\n",
       "      <th>cast</th>\n",
       "      <th>country</th>\n",
       "      <th>rating</th>\n",
       "      <th>listed_in</th>\n",
       "      <th>description</th>\n",
       "    </tr>\n",
       "  </thead>\n",
       "  <tbody>\n",
       "    <tr>\n",
       "      <th>5693</th>\n",
       "      <td>5693</td>\n",
       "      <td>s5694</td>\n",
       "      <td>Movie</td>\n",
       "      <td>For the Love of Spock</td>\n",
       "      <td>AdamNimoy</td>\n",
       "      <td>LeonardNimoy,WilliamShatner,GeorgeTakei,Nichel...</td>\n",
       "      <td>Canada, United States</td>\n",
       "      <td>TV-14</td>\n",
       "      <td>Documentaries</td>\n",
       "      <td>The son of actor Leonard Nimoy directs this mo...</td>\n",
       "    </tr>\n",
       "    <tr>\n",
       "      <th>6749</th>\n",
       "      <td>6749</td>\n",
       "      <td>s6750</td>\n",
       "      <td>Movie</td>\n",
       "      <td>Figures of Speech</td>\n",
       "      <td>AriLevinson</td>\n",
       "      <td>ChrisPine</td>\n",
       "      <td>United States</td>\n",
       "      <td>TV-PG</td>\n",
       "      <td>Documentaries</td>\n",
       "      <td>In this documentary, passionate high schoolers...</td>\n",
       "    </tr>\n",
       "    <tr>\n",
       "      <th>3517</th>\n",
       "      <td>3517</td>\n",
       "      <td>s3518</td>\n",
       "      <td>Movie</td>\n",
       "      <td>The Crystal Calls Making the Dark Crystal: Age...</td>\n",
       "      <td>RandallLobb</td>\n",
       "      <td>TaronEgerton,NatalieDormer,SimonPegg,JasonIsaacs</td>\n",
       "      <td>United States</td>\n",
       "      <td>TV-PG</td>\n",
       "      <td>Documentaries, International Movies</td>\n",
       "      <td>Go behind the scenes with stars, puppeteers an...</td>\n",
       "    </tr>\n",
       "    <tr>\n",
       "      <th>7757</th>\n",
       "      <td>7757</td>\n",
       "      <td>s7758</td>\n",
       "      <td>Movie</td>\n",
       "      <td>Porto</td>\n",
       "      <td>GabeKlinger</td>\n",
       "      <td>AntonYelchin,LucieLucas,FrançoiseLebrun,PauloC...</td>\n",
       "      <td>Portugal, France, Poland, United States</td>\n",
       "      <td>TV-MA</td>\n",
       "      <td>Dramas, Independent Movies, Romantic Movies</td>\n",
       "      <td>In a coastal Portuguese city, an erotic encoun...</td>\n",
       "    </tr>\n",
       "    <tr>\n",
       "      <th>8354</th>\n",
       "      <td>8354</td>\n",
       "      <td>s8355</td>\n",
       "      <td>Movie</td>\n",
       "      <td>The Hurricane Heist</td>\n",
       "      <td>RobCohen</td>\n",
       "      <td>TobyKebbell,MaggieGrace,RyanKwanten,RalphIneso...</td>\n",
       "      <td>United Kingdom, United States</td>\n",
       "      <td>PG-13</td>\n",
       "      <td>Action &amp; Adventure</td>\n",
       "      <td>A deadly hurricane with mile-high waves provid...</td>\n",
       "    </tr>\n",
       "    <tr>\n",
       "      <th>5252</th>\n",
       "      <td>5252</td>\n",
       "      <td>s5253</td>\n",
       "      <td>Movie</td>\n",
       "      <td>Gerald's Game</td>\n",
       "      <td>MikeFlanagan</td>\n",
       "      <td>CarlaGugino,BruceGreenwood,HenryThomas,CarelSt...</td>\n",
       "      <td>United States</td>\n",
       "      <td>TV-MA</td>\n",
       "      <td>Horror Movies, Thrillers</td>\n",
       "      <td>When her husband's sex game goes wrong, Jessie...</td>\n",
       "    </tr>\n",
       "    <tr>\n",
       "      <th>3100</th>\n",
       "      <td>3100</td>\n",
       "      <td>s3101</td>\n",
       "      <td>Movie</td>\n",
       "      <td>Jarhead: Law of Return</td>\n",
       "      <td>DonMichaelPaul</td>\n",
       "      <td>AmauryNolasco,DevonSawa,RobertPatrick,JeffPier...</td>\n",
       "      <td>Israel, United States</td>\n",
       "      <td>R</td>\n",
       "      <td>Action &amp; Adventure, Dramas</td>\n",
       "      <td>When a U.S. senator’s son is held captive by H...</td>\n",
       "    </tr>\n",
       "    <tr>\n",
       "      <th>5848</th>\n",
       "      <td>5848</td>\n",
       "      <td>s5849</td>\n",
       "      <td>Movie</td>\n",
       "      <td>Special Correspondents</td>\n",
       "      <td>RickyGervais</td>\n",
       "      <td>EricBana,RickyGervais,VeraFarmiga,KellyMacdona...</td>\n",
       "      <td>Canada, United Kingdom, United States</td>\n",
       "      <td>TV-MA</td>\n",
       "      <td>Comedies</td>\n",
       "      <td>When they lose their passports, a bickering ra...</td>\n",
       "    </tr>\n",
       "    <tr>\n",
       "      <th>6017</th>\n",
       "      <td>6017</td>\n",
       "      <td>s6018</td>\n",
       "      <td>Movie</td>\n",
       "      <td>5 to 7</td>\n",
       "      <td>VictorLevin</td>\n",
       "      <td>AntonYelchin,BéréniceMarlohe,OliviaThirlby,Lam...</td>\n",
       "      <td>United States</td>\n",
       "      <td>R</td>\n",
       "      <td>Comedies, Dramas, Romantic Movies</td>\n",
       "      <td>A young novelist's life is turned upside down ...</td>\n",
       "    </tr>\n",
       "  </tbody>\n",
       "</table>\n",
       "</div>"
      ],
      "text/plain": [
       "      index show_id   type                                              title  \\\n",
       "5693   5693   s5694  Movie                              For the Love of Spock   \n",
       "6749   6749   s6750  Movie                                  Figures of Speech   \n",
       "3517   3517   s3518  Movie  The Crystal Calls Making the Dark Crystal: Age...   \n",
       "7757   7757   s7758  Movie                                              Porto   \n",
       "8354   8354   s8355  Movie                                The Hurricane Heist   \n",
       "5252   5252   s5253  Movie                                      Gerald's Game   \n",
       "3100   3100   s3101  Movie                             Jarhead: Law of Return   \n",
       "5848   5848   s5849  Movie                             Special Correspondents   \n",
       "6017   6017   s6018  Movie                                             5 to 7   \n",
       "\n",
       "            director                                               cast  \\\n",
       "5693       AdamNimoy  LeonardNimoy,WilliamShatner,GeorgeTakei,Nichel...   \n",
       "6749     AriLevinson                                          ChrisPine   \n",
       "3517     RandallLobb   TaronEgerton,NatalieDormer,SimonPegg,JasonIsaacs   \n",
       "7757     GabeKlinger  AntonYelchin,LucieLucas,FrançoiseLebrun,PauloC...   \n",
       "8354        RobCohen  TobyKebbell,MaggieGrace,RyanKwanten,RalphIneso...   \n",
       "5252    MikeFlanagan  CarlaGugino,BruceGreenwood,HenryThomas,CarelSt...   \n",
       "3100  DonMichaelPaul  AmauryNolasco,DevonSawa,RobertPatrick,JeffPier...   \n",
       "5848    RickyGervais  EricBana,RickyGervais,VeraFarmiga,KellyMacdona...   \n",
       "6017     VictorLevin  AntonYelchin,BéréniceMarlohe,OliviaThirlby,Lam...   \n",
       "\n",
       "                                      country rating  \\\n",
       "5693                    Canada, United States  TV-14   \n",
       "6749                            United States  TV-PG   \n",
       "3517                            United States  TV-PG   \n",
       "7757  Portugal, France, Poland, United States  TV-MA   \n",
       "8354            United Kingdom, United States  PG-13   \n",
       "5252                            United States  TV-MA   \n",
       "3100                    Israel, United States      R   \n",
       "5848    Canada, United Kingdom, United States  TV-MA   \n",
       "6017                            United States      R   \n",
       "\n",
       "                                        listed_in  \\\n",
       "5693                                Documentaries   \n",
       "6749                                Documentaries   \n",
       "3517          Documentaries, International Movies   \n",
       "7757  Dramas, Independent Movies, Romantic Movies   \n",
       "8354                           Action & Adventure   \n",
       "5252                     Horror Movies, Thrillers   \n",
       "3100                   Action & Adventure, Dramas   \n",
       "5848                                     Comedies   \n",
       "6017            Comedies, Dramas, Romantic Movies   \n",
       "\n",
       "                                            description  \n",
       "5693  The son of actor Leonard Nimoy directs this mo...  \n",
       "6749  In this documentary, passionate high schoolers...  \n",
       "3517  Go behind the scenes with stars, puppeteers an...  \n",
       "7757  In a coastal Portuguese city, an erotic encoun...  \n",
       "8354  A deadly hurricane with mile-high waves provid...  \n",
       "5252  When her husband's sex game goes wrong, Jessie...  \n",
       "3100  When a U.S. senator’s son is held captive by H...  \n",
       "5848  When they lose their passports, a bickering ra...  \n",
       "6017  A young novelist's life is turned upside down ...  "
      ]
     },
     "execution_count": 74,
     "metadata": {},
     "output_type": "execute_result"
    }
   ],
   "source": [
    "netflix_simple.iloc[movie_indices]"
   ]
  },
  {
   "cell_type": "code",
   "execution_count": 48,
   "id": "6850a029",
   "metadata": {},
   "outputs": [
    {
     "data": {
      "text/html": [
       "<div>\n",
       "<style scoped>\n",
       "    .dataframe tbody tr th:only-of-type {\n",
       "        vertical-align: middle;\n",
       "    }\n",
       "\n",
       "    .dataframe tbody tr th {\n",
       "        vertical-align: top;\n",
       "    }\n",
       "\n",
       "    .dataframe thead th {\n",
       "        text-align: right;\n",
       "    }\n",
       "</style>\n",
       "<table border=\"1\" class=\"dataframe\">\n",
       "  <thead>\n",
       "    <tr style=\"text-align: right;\">\n",
       "      <th></th>\n",
       "      <th>level_0</th>\n",
       "      <th>index</th>\n",
       "      <th>show_id</th>\n",
       "      <th>type</th>\n",
       "      <th>title</th>\n",
       "      <th>director</th>\n",
       "      <th>cast</th>\n",
       "      <th>country</th>\n",
       "      <th>rating</th>\n",
       "      <th>listed_in</th>\n",
       "      <th>description</th>\n",
       "    </tr>\n",
       "  </thead>\n",
       "  <tbody>\n",
       "    <tr>\n",
       "      <th>5244</th>\n",
       "      <td>5244</td>\n",
       "      <td>5244</td>\n",
       "      <td>s5245</td>\n",
       "      <td>TV Show</td>\n",
       "      <td>Star Trek: Enterprise</td>\n",
       "      <td></td>\n",
       "      <td>ScottBakula,JohnBillingsley,JoleneBlalock,Domi...</td>\n",
       "      <td>United States</td>\n",
       "      <td>TV-14</td>\n",
       "      <td>Classic &amp; Cult TV, TV Action &amp; Adventure, TV S...</td>\n",
       "      <td>Capt. Archer and his crew explore space and di...</td>\n",
       "    </tr>\n",
       "    <tr>\n",
       "      <th>5650</th>\n",
       "      <td>5650</td>\n",
       "      <td>5650</td>\n",
       "      <td>s5651</td>\n",
       "      <td>TV Show</td>\n",
       "      <td>Star Trek: Deep Space Nine</td>\n",
       "      <td></td>\n",
       "      <td>AveryBrooks,NanaVisitor,ReneAuberjonois,Cirroc...</td>\n",
       "      <td>United States</td>\n",
       "      <td>TV-14</td>\n",
       "      <td>TV Action &amp; Adventure, TV Sci-Fi &amp; Fantasy</td>\n",
       "      <td>In this \"Star Trek\" spin-off, Commander Sisko ...</td>\n",
       "    </tr>\n",
       "    <tr>\n",
       "      <th>5693</th>\n",
       "      <td>5693</td>\n",
       "      <td>5693</td>\n",
       "      <td>s5694</td>\n",
       "      <td>Movie</td>\n",
       "      <td>For the Love of Spock</td>\n",
       "      <td>Adam Nimoy</td>\n",
       "      <td>LeonardNimoy,WilliamShatner,GeorgeTakei,Nichel...</td>\n",
       "      <td>Canada, United States</td>\n",
       "      <td>TV-14</td>\n",
       "      <td>Documentaries</td>\n",
       "      <td>The son of actor Leonard Nimoy directs this mo...</td>\n",
       "    </tr>\n",
       "    <tr>\n",
       "      <th>4946</th>\n",
       "      <td>4946</td>\n",
       "      <td>4946</td>\n",
       "      <td>s4947</td>\n",
       "      <td>TV Show</td>\n",
       "      <td>Star Trek: The Next Generation</td>\n",
       "      <td></td>\n",
       "      <td>PatrickStewart,JonathanFrakes,LeVarBurton,Mich...</td>\n",
       "      <td>United States</td>\n",
       "      <td>TV-PG</td>\n",
       "      <td>TV Action &amp; Adventure, TV Sci-Fi &amp; Fantasy</td>\n",
       "      <td>Decades after the adventures of the original E...</td>\n",
       "    </tr>\n",
       "    <tr>\n",
       "      <th>592</th>\n",
       "      <td>592</td>\n",
       "      <td>592</td>\n",
       "      <td>s593</td>\n",
       "      <td>Movie</td>\n",
       "      <td>She's Out of My League</td>\n",
       "      <td>Jim Field Smith</td>\n",
       "      <td>JayBaruchel,AliceEve,T.J.Miller,MikeVogel,Nate...</td>\n",
       "      <td>United States</td>\n",
       "      <td>R</td>\n",
       "      <td>Comedies, Romantic Movies</td>\n",
       "      <td>Kirk's a 5. His new girlfriend Molly's a 10. N...</td>\n",
       "    </tr>\n",
       "    <tr>\n",
       "      <th>5245</th>\n",
       "      <td>5245</td>\n",
       "      <td>5245</td>\n",
       "      <td>s5246</td>\n",
       "      <td>TV Show</td>\n",
       "      <td>Star Trek: Voyager</td>\n",
       "      <td></td>\n",
       "      <td>KateMulgrew,RobertBeltran,RoxannDawson,Jennife...</td>\n",
       "      <td>United States</td>\n",
       "      <td>TV-PG</td>\n",
       "      <td>TV Action &amp; Adventure, TV Sci-Fi &amp; Fantasy</td>\n",
       "      <td>On Voyager's 75-year journey back to Earth, th...</td>\n",
       "    </tr>\n",
       "    <tr>\n",
       "      <th>6902</th>\n",
       "      <td>6902</td>\n",
       "      <td>6902</td>\n",
       "      <td>s6903</td>\n",
       "      <td>Movie</td>\n",
       "      <td>Guy Martin: Last Flight of the Vulcan Bomber</td>\n",
       "      <td>James Woodroffe</td>\n",
       "      <td>GuyMartin,KevinStone,ShaunDooley</td>\n",
       "      <td>United Kingdom</td>\n",
       "      <td>TV-G</td>\n",
       "      <td>Documentaries, International Movies</td>\n",
       "      <td>Guy Martin assists in preparing the last airwo...</td>\n",
       "    </tr>\n",
       "    <tr>\n",
       "      <th>2005</th>\n",
       "      <td>2005</td>\n",
       "      <td>2005</td>\n",
       "      <td>s2006</td>\n",
       "      <td>Movie</td>\n",
       "      <td>Lara and the Beat</td>\n",
       "      <td>Tosin Coker</td>\n",
       "      <td>SeyiShay,SomkeleIyamah,Vector,ChiomaChukwukaAk...</td>\n",
       "      <td>Nigeria</td>\n",
       "      <td>TV-MA</td>\n",
       "      <td>Dramas, International Movies, Music &amp; Musicals</td>\n",
       "      <td>When their glamorous, fast-paced lifestyle com...</td>\n",
       "    </tr>\n",
       "    <tr>\n",
       "      <th>4060</th>\n",
       "      <td>4060</td>\n",
       "      <td>4060</td>\n",
       "      <td>s4061</td>\n",
       "      <td>Movie</td>\n",
       "      <td>Radio Rebel</td>\n",
       "      <td>Peter Howitt</td>\n",
       "      <td>DebbyRyan,SarenaParmar,AdamDiMarco,MerrittPatt...</td>\n",
       "      <td>United States</td>\n",
       "      <td>TV-G</td>\n",
       "      <td>Children &amp; Family Movies, Comedies</td>\n",
       "      <td>Shy student Tara has a secret identity: She is...</td>\n",
       "    </tr>\n",
       "  </tbody>\n",
       "</table>\n",
       "</div>"
      ],
      "text/plain": [
       "      level_0  index show_id     type  \\\n",
       "5244     5244   5244   s5245  TV Show   \n",
       "5650     5650   5650   s5651  TV Show   \n",
       "5693     5693   5693   s5694    Movie   \n",
       "4946     4946   4946   s4947  TV Show   \n",
       "592       592    592    s593    Movie   \n",
       "5245     5245   5245   s5246  TV Show   \n",
       "6902     6902   6902   s6903    Movie   \n",
       "2005     2005   2005   s2006    Movie   \n",
       "4060     4060   4060   s4061    Movie   \n",
       "\n",
       "                                             title         director  \\\n",
       "5244                         Star Trek: Enterprise                    \n",
       "5650                    Star Trek: Deep Space Nine                    \n",
       "5693                         For the Love of Spock       Adam Nimoy   \n",
       "4946                Star Trek: The Next Generation                    \n",
       "592                         She's Out of My League  Jim Field Smith   \n",
       "5245                            Star Trek: Voyager                    \n",
       "6902  Guy Martin: Last Flight of the Vulcan Bomber  James Woodroffe   \n",
       "2005                             Lara and the Beat      Tosin Coker   \n",
       "4060                                   Radio Rebel     Peter Howitt   \n",
       "\n",
       "                                                   cast  \\\n",
       "5244  ScottBakula,JohnBillingsley,JoleneBlalock,Domi...   \n",
       "5650  AveryBrooks,NanaVisitor,ReneAuberjonois,Cirroc...   \n",
       "5693  LeonardNimoy,WilliamShatner,GeorgeTakei,Nichel...   \n",
       "4946  PatrickStewart,JonathanFrakes,LeVarBurton,Mich...   \n",
       "592   JayBaruchel,AliceEve,T.J.Miller,MikeVogel,Nate...   \n",
       "5245  KateMulgrew,RobertBeltran,RoxannDawson,Jennife...   \n",
       "6902                   GuyMartin,KevinStone,ShaunDooley   \n",
       "2005  SeyiShay,SomkeleIyamah,Vector,ChiomaChukwukaAk...   \n",
       "4060  DebbyRyan,SarenaParmar,AdamDiMarco,MerrittPatt...   \n",
       "\n",
       "                    country rating  \\\n",
       "5244          United States  TV-14   \n",
       "5650          United States  TV-14   \n",
       "5693  Canada, United States  TV-14   \n",
       "4946          United States  TV-PG   \n",
       "592           United States      R   \n",
       "5245          United States  TV-PG   \n",
       "6902         United Kingdom   TV-G   \n",
       "2005                Nigeria  TV-MA   \n",
       "4060          United States   TV-G   \n",
       "\n",
       "                                              listed_in  \\\n",
       "5244  Classic & Cult TV, TV Action & Adventure, TV S...   \n",
       "5650         TV Action & Adventure, TV Sci-Fi & Fantasy   \n",
       "5693                                      Documentaries   \n",
       "4946         TV Action & Adventure, TV Sci-Fi & Fantasy   \n",
       "592                           Comedies, Romantic Movies   \n",
       "5245         TV Action & Adventure, TV Sci-Fi & Fantasy   \n",
       "6902                Documentaries, International Movies   \n",
       "2005     Dramas, International Movies, Music & Musicals   \n",
       "4060                 Children & Family Movies, Comedies   \n",
       "\n",
       "                                            description  \n",
       "5244  Capt. Archer and his crew explore space and di...  \n",
       "5650  In this \"Star Trek\" spin-off, Commander Sisko ...  \n",
       "5693  The son of actor Leonard Nimoy directs this mo...  \n",
       "4946  Decades after the adventures of the original E...  \n",
       "592   Kirk's a 5. His new girlfriend Molly's a 10. N...  \n",
       "5245  On Voyager's 75-year journey back to Earth, th...  \n",
       "6902  Guy Martin assists in preparing the last airwo...  \n",
       "2005  When their glamorous, fast-paced lifestyle com...  \n",
       "4060  Shy student Tara has a secret identity: She is...  "
      ]
     },
     "execution_count": 48,
     "metadata": {},
     "output_type": "execute_result"
    }
   ],
   "source": [
    "row2 = sim_titledesc[index]\n",
    "\n",
    "sim_scores = list(enumerate(row2))\n",
    "\n",
    "sim_scores = sorted(sim_scores, key=lambda x: x[1], reverse=True)\n",
    "\n",
    "closest_matches2 = sim_scores[1:10]\n",
    "                             \n",
    "movie_indices = [i[0] for i in closest_matches2]\n",
    "\n",
    "contenders2 = np.array(closest_matches2)\n",
    "                             \n",
    "netflix_simple.iloc[movie_indices]"
   ]
  },
  {
   "cell_type": "code",
   "execution_count": 49,
   "id": "dc7726b9",
   "metadata": {},
   "outputs": [
    {
     "data": {
      "text/plain": [
       "array([[5693.        ,    0.22678751],\n",
       "       [6749.        ,    0.18664712],\n",
       "       [3517.        ,    0.0656334 ],\n",
       "       [7757.        ,    0.05603469],\n",
       "       [8354.        ,    0.05340816],\n",
       "       [5252.        ,    0.05125346],\n",
       "       [3100.        ,    0.04897567],\n",
       "       [5848.        ,    0.04729247],\n",
       "       [6017.        ,    0.04690411]])"
      ]
     },
     "execution_count": 49,
     "metadata": {},
     "output_type": "execute_result"
    }
   ],
   "source": [
    "contenders"
   ]
  },
  {
   "cell_type": "code",
   "execution_count": 105,
   "id": "b7a9e0ec",
   "metadata": {},
   "outputs": [
    {
     "data": {
      "text/plain": [
       "array([[5244.        ,    0.20736046],\n",
       "       [5650.        ,    0.11901829],\n",
       "       [ 594.        ,    0.10358936],\n",
       "       [5245.        ,    0.08648629],\n",
       "       [8586.        ,    0.065304  ],\n",
       "       [2005.        ,    0.05835767],\n",
       "       [ 956.        ,    0.05614262],\n",
       "       [5693.        ,    0.05493923],\n",
       "       [4652.        ,    0.05028207]])"
      ]
     },
     "execution_count": 105,
     "metadata": {},
     "output_type": "execute_result"
    }
   ],
   "source": [
    "contenders2"
   ]
  },
  {
   "cell_type": "code",
   "execution_count": 123,
   "id": "545cde1f",
   "metadata": {},
   "outputs": [
    {
     "data": {
      "text/plain": [
       "array([[ 908.        ,    1.        ],\n",
       "       [1779.        ,    1.        ],\n",
       "       [2405.        ,    1.        ],\n",
       "       [2470.        ,    1.        ],\n",
       "       [3615.        ,    1.        ],\n",
       "       [4946.        ,    1.        ],\n",
       "       [5245.        ,    1.        ],\n",
       "       [5650.        ,    1.        ],\n",
       "       [3674.        ,    0.92786103],\n",
       "       [5244.        ,    0.20736046],\n",
       "       [5650.        ,    0.11901829],\n",
       "       [ 594.        ,    0.10358936],\n",
       "       [5245.        ,    0.08648629],\n",
       "       [8586.        ,    0.065304  ],\n",
       "       [2005.        ,    0.05835767],\n",
       "       [ 956.        ,    0.05614262],\n",
       "       [5693.        ,    0.05493923],\n",
       "       [4652.        ,    0.05028207]])"
      ]
     },
     "execution_count": 123,
     "metadata": {},
     "output_type": "execute_result"
    }
   ],
   "source": [
    "test = np.concatenate((contenders, contenders2))\n",
    "\n",
    "test"
   ]
  },
  {
   "cell_type": "code",
   "execution_count": 163,
   "id": "171fa4cf",
   "metadata": {},
   "outputs": [],
   "source": [
    "net = test[:,0]\n",
    "\n",
    "finalists = np.zeros((len(test), 2))\n",
    "\n",
    "for i in range(len(net)):\n",
    "    ind = np.where(test[:,0] == net[i])\n",
    "    finalists[i,0] = net[i]\n",
    "    finalists[i,1] = np.sum(test[ind,1])\n",
    "    \n",
    "finalists = np.unique(finalists, axis = 0)"
   ]
  },
  {
   "cell_type": "code",
   "execution_count": 164,
   "id": "dc5100ec",
   "metadata": {},
   "outputs": [
    {
     "data": {
      "text/plain": [
       "array([[ 594.        ,    0.10358936],\n",
       "       [ 908.        ,    1.        ],\n",
       "       [ 956.        ,    0.05614262],\n",
       "       [1779.        ,    1.        ],\n",
       "       [2005.        ,    0.05835767],\n",
       "       [2405.        ,    1.        ],\n",
       "       [2470.        ,    1.        ],\n",
       "       [3615.        ,    1.        ],\n",
       "       [3674.        ,    0.92786103],\n",
       "       [4652.        ,    0.05028207],\n",
       "       [4946.        ,    1.        ],\n",
       "       [5244.        ,    0.20736046],\n",
       "       [5245.        ,    1.08648629],\n",
       "       [5650.        ,    1.11901829],\n",
       "       [5693.        ,    0.05493923],\n",
       "       [8586.        ,    0.065304  ]])"
      ]
     },
     "execution_count": 164,
     "metadata": {},
     "output_type": "execute_result"
    }
   ],
   "source": [
    "finalists"
   ]
  },
  {
   "cell_type": "code",
   "execution_count": 165,
   "id": "2331be77",
   "metadata": {},
   "outputs": [
    {
     "name": "stdout",
     "output_type": "stream",
     "text": [
      "(array([13], dtype=int64),)\n"
     ]
    }
   ],
   "source": [
    "print(np.where(finalists[:,1] == max(finalists[:,1])))"
   ]
  },
  {
   "cell_type": "code",
   "execution_count": 184,
   "id": "1d68c1f8",
   "metadata": {},
   "outputs": [
    {
     "data": {
      "text/plain": [
       "5650"
      ]
     },
     "execution_count": 184,
     "metadata": {},
     "output_type": "execute_result"
    }
   ],
   "source": [
    "ind = finalists[np.where(finalists[:,1] == max(finalists[:,1]))]\n",
    "\n",
    "ind = int(ind[0,0])\n",
    "\n",
    "ind"
   ]
  }
 ],
 "metadata": {
  "kernelspec": {
   "display_name": "Python 3 (ipykernel)",
   "language": "python",
   "name": "python3"
  },
  "language_info": {
   "codemirror_mode": {
    "name": "ipython",
    "version": 3
   },
   "file_extension": ".py",
   "mimetype": "text/x-python",
   "name": "python",
   "nbconvert_exporter": "python",
   "pygments_lexer": "ipython3",
   "version": "3.9.7"
  }
 },
 "nbformat": 4,
 "nbformat_minor": 5
}
