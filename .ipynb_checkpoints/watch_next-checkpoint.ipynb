{
 "cells": [
  {
   "cell_type": "markdown",
   "id": "765c5d27",
   "metadata": {},
   "source": [
    "# Due 4/26/2022"
   ]
  },
  {
   "cell_type": "code",
   "execution_count": 1,
   "id": "70ab8d20",
   "metadata": {},
   "outputs": [],
   "source": [
    "import pandas as pd\n",
    "from sklearn.feature_extraction.text import TfidfVectorizer\n",
    "from sklearn.metrics.pairwise import linear_kernel\n",
    "import numpy as np"
   ]
  },
  {
   "cell_type": "markdown",
   "id": "d4e8e268",
   "metadata": {},
   "source": [
    "For various attributes, like similarity in description + title, actors, director, etc, depending on the position in each list a movie appears, it will be assigned a certain number of points, and the movie with the most points will be recommended next."
   ]
  },
  {
   "cell_type": "code",
   "execution_count": 234,
   "id": "0ed82563",
   "metadata": {},
   "outputs": [],
   "source": [
    "# load in the Netflix library\n",
    "netflix = pd.read_csv(\"netflix_titles.csv\")\n",
    "\n",
    "# take out some of the things we care less about\n",
    "netflix_simple = netflix.drop(['date_added', 'release_year', 'duration'], axis = 1)"
   ]
  },
  {
   "cell_type": "code",
   "execution_count": 281,
   "id": "7e570928",
   "metadata": {},
   "outputs": [],
   "source": [
    "# fill in any NaNs with empty strings so the vectorizing doesn't do a stupid\n",
    "\n",
    "netflix_simple.fillna(\"\", inplace=True)\n",
    "netflix_simple.head()\n",
    "\n",
    "# things that don't need extra manipulation\n",
    "titledesc = netflix_simple['description'] + netflix_simple['title']\n",
    "listed = netflix_simple['listed_in']\n",
    "\n",
    "# things that do need some help, since they contain multiword tokens\n",
    "cast = netflix_simple['cast']\n",
    "cast = cast.str.rsplit(pat=',', n = 1, expand = True)\n",
    "\n",
    "director = netflix_simple['director']\n",
    "director = director.str.split(pat=',')\n",
    "\n",
    "# all the things we;ll be using for the ranking\n",
    "metrics = [titledesc, listed, cast, director]"
   ]
  },
  {
   "cell_type": "code",
   "execution_count": 282,
   "id": "eabcb83a",
   "metadata": {},
   "outputs": [],
   "source": [
    "cast = cast.iloc[:,0]"
   ]
  },
  {
   "cell_type": "code",
   "execution_count": 283,
   "id": "03f538ce",
   "metadata": {},
   "outputs": [],
   "source": [
    "tf = TfidfVectorizer(analyzer='word', ngram_range=(1, 2), min_df=0, stop_words='english', token_pattern = ',')\n",
    "tfidf_cast = tf.fit_transform(cast)"
   ]
  },
  {
   "cell_type": "code",
   "execution_count": 284,
   "id": "7143cb06",
   "metadata": {},
   "outputs": [],
   "source": [
    "# Create tfidf vectorizer:\n",
    "tf = TfidfVectorizer(analyzer='word', ngram_range=(1, 2), min_df=0, stop_words='english')\n",
    "\n",
    "# Use vectorizer to create tfidf matrix.\n",
    "tfidf_titledesc = tf.fit_transform(titledesc)\n",
    "tfidf_listed = tf.fit_transform(listed)"
   ]
  },
  {
   "cell_type": "code",
   "execution_count": 285,
   "id": "2eec78d0",
   "metadata": {},
   "outputs": [],
   "source": [
    "# Compute the similarity matrix so we know how similar the given movie is to the others available\n",
    "sim_titledesc = linear_kernel(tfidf_titledesc, tfidf_titledesc)\n",
    "sim_cast = linear_kernel(tfidf_cast, tfidf_cast)\n",
    "sim_listed = linear_kernel(tfidf_listed, tfidf_listed)"
   ]
  },
  {
   "cell_type": "code",
   "execution_count": 204,
   "id": "152ee42e",
   "metadata": {},
   "outputs": [
    {
     "name": "stdout",
     "output_type": "stream",
     "text": [
      "Similarity: 0.009992218981363724\n",
      "Movie A: Ama Qamata, Khosi Ngema, Gail Mabalane, Thabang Molaba, Dillon Windvogel, Natasha Thahane, Arno Greeff, Xolile Tshabalala, Getmore Sithole, Cindy Mahlangu, Ryle De Morny, Greteli Fincham, Sello Maake Ka-Ncube, Odwa Gwanya, Mekaila Mathys, Sandi Schultz, Duane Williams, Shamilla Miller, Patrick Mofokeng\n"
     ]
    }
   ],
   "source": [
    "# just an example of how the indexing works here; consider deleting\n",
    "\n",
    "movie_A = 1\n",
    "movie_B = 5\n",
    "\n",
    "similarity = sim_titledesc[movie_A, movie_B]\n",
    "print(\"Similarity:\", similarity)\n",
    "\n",
    "print(\"Movie A:\", cast.loc[movie_A])"
   ]
  },
  {
   "cell_type": "code",
   "execution_count": 286,
   "id": "5a0ea60b",
   "metadata": {},
   "outputs": [],
   "source": [
    "# Reset the numbering of the rows to make sure no numbers are skipped because we removed rows\n",
    "netflix_simple.reset_index(inplace=True)\n",
    "\n",
    "# reindex according to title so that the indexing later is easier\n",
    "indices = pd.Series(netflix_simple.index, index=netflix_simple['title'])"
   ]
  },
  {
   "cell_type": "code",
   "execution_count": 287,
   "id": "2c0bb372",
   "metadata": {},
   "outputs": [
    {
     "data": {
      "text/plain": [
       "4946"
      ]
     },
     "execution_count": 287,
     "metadata": {},
     "output_type": "execute_result"
    }
   ],
   "source": [
    "indices['Star Trek: The Next Generation']"
   ]
  },
  {
   "cell_type": "code",
   "execution_count": 288,
   "id": "85950c17",
   "metadata": {},
   "outputs": [
    {
     "name": "stdout",
     "output_type": "stream",
     "text": [
      "[0.         0.99891542 1.         0.         0.99990288 0.99920635\n",
      " 0.99994763 0.99990288 0.96963605 0.9998368  0.         0.99850645\n",
      " 0.9998368  0.99994763 0.         0.99990288 0.         0.99970591\n",
      " 0.99994763 0.99990288]\n"
     ]
    }
   ],
   "source": [
    "# Get the movie's index based on its title:\n",
    "index = indices[\"Star Trek: The Next Generation\"]\n",
    "\n",
    "# Use that index to get the similarities matrix row\n",
    "# that gives a similarity score for this movie\n",
    "# compared to each other movie:\n",
    "row = sim_cast[index]\n",
    "\n",
    "# Print the similarity scores with the first 20 movies:\n",
    "print(row[:20])"
   ]
  },
  {
   "cell_type": "code",
   "execution_count": 289,
   "id": "735202ed",
   "metadata": {},
   "outputs": [],
   "source": [
    "# Convert that row to a list of (movie_row, similarity_score) pairs:\n",
    "sim_scores = list(enumerate(row))\n",
    "\n",
    "# sim_scores"
   ]
  },
  {
   "cell_type": "code",
   "execution_count": 290,
   "id": "febf7f58",
   "metadata": {},
   "outputs": [],
   "source": [
    "# Sort the (movie_row, similarity_score) pairs by similarity score:\n",
    "sim_scores = sorted(sim_scores, key=lambda x: x[1], reverse=True)"
   ]
  },
  {
   "cell_type": "code",
   "execution_count": 291,
   "id": "205c3bd4",
   "metadata": {},
   "outputs": [],
   "source": [
    "# Get the top 10 (movie_row, similarity_score) pairs:\n",
    "closest_matches = sim_scores[1:10]"
   ]
  },
  {
   "cell_type": "code",
   "execution_count": 292,
   "id": "79673810",
   "metadata": {},
   "outputs": [
    {
     "data": {
      "text/plain": [
       "array([[ 38.,   1.],\n",
       "       [ 50.,   1.],\n",
       "       [ 71.,   1.],\n",
       "       [100.,   1.],\n",
       "       [114.,   1.],\n",
       "       [165.,   1.],\n",
       "       [169.,   1.],\n",
       "       [204.,   1.],\n",
       "       [219.,   1.]])"
      ]
     },
     "execution_count": 292,
     "metadata": {},
     "output_type": "execute_result"
    }
   ],
   "source": [
    "np.set_printoptions(suppress=True)\n",
    "\n",
    "movie_indices = [i[0] for i in closest_matches]\n",
    "\n",
    "contenders = np.array(closest_matches)\n",
    "\n",
    "contenders"
   ]
  },
  {
   "cell_type": "code",
   "execution_count": 293,
   "id": "329941e3",
   "metadata": {},
   "outputs": [
    {
     "data": {
      "text/html": [
       "<div>\n",
       "<style scoped>\n",
       "    .dataframe tbody tr th:only-of-type {\n",
       "        vertical-align: middle;\n",
       "    }\n",
       "\n",
       "    .dataframe tbody tr th {\n",
       "        vertical-align: top;\n",
       "    }\n",
       "\n",
       "    .dataframe thead th {\n",
       "        text-align: right;\n",
       "    }\n",
       "</style>\n",
       "<table border=\"1\" class=\"dataframe\">\n",
       "  <thead>\n",
       "    <tr style=\"text-align: right;\">\n",
       "      <th></th>\n",
       "      <th>level_0</th>\n",
       "      <th>index</th>\n",
       "      <th>show_id</th>\n",
       "      <th>type</th>\n",
       "      <th>title</th>\n",
       "      <th>director</th>\n",
       "      <th>cast</th>\n",
       "      <th>country</th>\n",
       "      <th>rating</th>\n",
       "      <th>listed_in</th>\n",
       "      <th>description</th>\n",
       "    </tr>\n",
       "  </thead>\n",
       "  <tbody>\n",
       "    <tr>\n",
       "      <th>38</th>\n",
       "      <td>38</td>\n",
       "      <td>38</td>\n",
       "      <td>s39</td>\n",
       "      <td>Movie</td>\n",
       "      <td>Birth of the Dragon</td>\n",
       "      <td>George Nolfi</td>\n",
       "      <td>Billy Magnussen, Ron Yuan, Qu Jingjing, Terry ...</td>\n",
       "      <td>China, Canada, United States</td>\n",
       "      <td>PG-13</td>\n",
       "      <td>Action &amp; Adventure, Dramas</td>\n",
       "      <td>A young Bruce Lee angers kung fu traditionalis...</td>\n",
       "    </tr>\n",
       "    <tr>\n",
       "      <th>50</th>\n",
       "      <td>50</td>\n",
       "      <td>50</td>\n",
       "      <td>s51</td>\n",
       "      <td>TV Show</td>\n",
       "      <td>Dharmakshetra</td>\n",
       "      <td></td>\n",
       "      <td>Kashmira Irani, Chandan Anand, Dinesh Mehta, A...</td>\n",
       "      <td>India</td>\n",
       "      <td>TV-PG</td>\n",
       "      <td>International TV Shows, TV Dramas, TV Sci-Fi &amp;...</td>\n",
       "      <td>After the ancient Great War, the god Chitragup...</td>\n",
       "    </tr>\n",
       "    <tr>\n",
       "      <th>71</th>\n",
       "      <td>71</td>\n",
       "      <td>71</td>\n",
       "      <td>s72</td>\n",
       "      <td>Movie</td>\n",
       "      <td>A StoryBots Space Adventure</td>\n",
       "      <td>David A. Vargas</td>\n",
       "      <td>Evan Spiridellis, Erin Fitzgerald, Jeff Gill, ...</td>\n",
       "      <td></td>\n",
       "      <td>TV-Y</td>\n",
       "      <td>Children &amp; Family Movies</td>\n",
       "      <td>Join the StoryBots and the space travelers of ...</td>\n",
       "    </tr>\n",
       "    <tr>\n",
       "      <th>100</th>\n",
       "      <td>100</td>\n",
       "      <td>100</td>\n",
       "      <td>s101</td>\n",
       "      <td>TV Show</td>\n",
       "      <td>Tobot Galaxy Detectives</td>\n",
       "      <td></td>\n",
       "      <td>Austin Abell, Travis Turner, Cole Howard, Anna...</td>\n",
       "      <td></td>\n",
       "      <td>TV-Y7</td>\n",
       "      <td>Kids' TV</td>\n",
       "      <td>An intergalactic device transforms toy cars in...</td>\n",
       "    </tr>\n",
       "    <tr>\n",
       "      <th>114</th>\n",
       "      <td>114</td>\n",
       "      <td>114</td>\n",
       "      <td>s115</td>\n",
       "      <td>Movie</td>\n",
       "      <td>Anjaam</td>\n",
       "      <td>Rahul Rawail</td>\n",
       "      <td>Madhuri Dixit, Shah Rukh Khan, Tinnu Anand, Jo...</td>\n",
       "      <td>India</td>\n",
       "      <td>TV-14</td>\n",
       "      <td>Dramas, International Movies, Thrillers</td>\n",
       "      <td>A wealthy industrialist’s dangerous obsession ...</td>\n",
       "    </tr>\n",
       "    <tr>\n",
       "      <th>165</th>\n",
       "      <td>165</td>\n",
       "      <td>165</td>\n",
       "      <td>s166</td>\n",
       "      <td>TV Show</td>\n",
       "      <td>Oldsters</td>\n",
       "      <td></td>\n",
       "      <td>Patricio Contreras, Alejandro Goic, Sergio Her...</td>\n",
       "      <td></td>\n",
       "      <td>TV-MA</td>\n",
       "      <td>Crime TV Shows, International TV Shows, Spanis...</td>\n",
       "      <td>Three friends in their 70s step out of retirem...</td>\n",
       "    </tr>\n",
       "    <tr>\n",
       "      <th>169</th>\n",
       "      <td>169</td>\n",
       "      <td>169</td>\n",
       "      <td>s170</td>\n",
       "      <td>Movie</td>\n",
       "      <td>Poseidon</td>\n",
       "      <td>Wolfgang Petersen</td>\n",
       "      <td>Josh Lucas, Kurt Russell, Jacinda Barrett, Ric...</td>\n",
       "      <td>United States</td>\n",
       "      <td>PG-13</td>\n",
       "      <td>Action &amp; Adventure, Dramas</td>\n",
       "      <td>A tidal wave spells disaster for a ship of New...</td>\n",
       "    </tr>\n",
       "    <tr>\n",
       "      <th>204</th>\n",
       "      <td>204</td>\n",
       "      <td>204</td>\n",
       "      <td>s205</td>\n",
       "      <td>Movie</td>\n",
       "      <td>Kyaa Super Kool Hain Hum</td>\n",
       "      <td>Sachin Yardi</td>\n",
       "      <td>Tusshar Kapoor, Riteish Deshmukh, Anupam Kher,...</td>\n",
       "      <td>India</td>\n",
       "      <td>TV-MA</td>\n",
       "      <td>Comedies, International Movies</td>\n",
       "      <td>An aspiring actor and a struggling DJ team up ...</td>\n",
       "    </tr>\n",
       "    <tr>\n",
       "      <th>219</th>\n",
       "      <td>219</td>\n",
       "      <td>219</td>\n",
       "      <td>s220</td>\n",
       "      <td>TV Show</td>\n",
       "      <td>EDENS ZERO</td>\n",
       "      <td></td>\n",
       "      <td>Takuma Terashima, Mikako Komatsu, Rie Kugimiya...</td>\n",
       "      <td>Japan</td>\n",
       "      <td>TV-14</td>\n",
       "      <td>Anime Series, International TV Shows</td>\n",
       "      <td>Aboard the Edens Zero, a lonely boy with the a...</td>\n",
       "    </tr>\n",
       "  </tbody>\n",
       "</table>\n",
       "</div>"
      ],
      "text/plain": [
       "     level_0  index show_id     type                        title  \\\n",
       "38        38     38     s39    Movie          Birth of the Dragon   \n",
       "50        50     50     s51  TV Show                Dharmakshetra   \n",
       "71        71     71     s72    Movie  A StoryBots Space Adventure   \n",
       "100      100    100    s101  TV Show      Tobot Galaxy Detectives   \n",
       "114      114    114    s115    Movie                       Anjaam   \n",
       "165      165    165    s166  TV Show                     Oldsters   \n",
       "169      169    169    s170    Movie                     Poseidon   \n",
       "204      204    204    s205    Movie     Kyaa Super Kool Hain Hum   \n",
       "219      219    219    s220  TV Show                   EDENS ZERO   \n",
       "\n",
       "              director                                               cast  \\\n",
       "38        George Nolfi  Billy Magnussen, Ron Yuan, Qu Jingjing, Terry ...   \n",
       "50                      Kashmira Irani, Chandan Anand, Dinesh Mehta, A...   \n",
       "71     David A. Vargas  Evan Spiridellis, Erin Fitzgerald, Jeff Gill, ...   \n",
       "100                     Austin Abell, Travis Turner, Cole Howard, Anna...   \n",
       "114       Rahul Rawail  Madhuri Dixit, Shah Rukh Khan, Tinnu Anand, Jo...   \n",
       "165                     Patricio Contreras, Alejandro Goic, Sergio Her...   \n",
       "169  Wolfgang Petersen  Josh Lucas, Kurt Russell, Jacinda Barrett, Ric...   \n",
       "204       Sachin Yardi  Tusshar Kapoor, Riteish Deshmukh, Anupam Kher,...   \n",
       "219                     Takuma Terashima, Mikako Komatsu, Rie Kugimiya...   \n",
       "\n",
       "                          country rating  \\\n",
       "38   China, Canada, United States  PG-13   \n",
       "50                          India  TV-PG   \n",
       "71                                  TV-Y   \n",
       "100                                TV-Y7   \n",
       "114                         India  TV-14   \n",
       "165                                TV-MA   \n",
       "169                 United States  PG-13   \n",
       "204                         India  TV-MA   \n",
       "219                         Japan  TV-14   \n",
       "\n",
       "                                             listed_in  \\\n",
       "38                          Action & Adventure, Dramas   \n",
       "50   International TV Shows, TV Dramas, TV Sci-Fi &...   \n",
       "71                            Children & Family Movies   \n",
       "100                                           Kids' TV   \n",
       "114            Dramas, International Movies, Thrillers   \n",
       "165  Crime TV Shows, International TV Shows, Spanis...   \n",
       "169                         Action & Adventure, Dramas   \n",
       "204                     Comedies, International Movies   \n",
       "219               Anime Series, International TV Shows   \n",
       "\n",
       "                                           description  \n",
       "38   A young Bruce Lee angers kung fu traditionalis...  \n",
       "50   After the ancient Great War, the god Chitragup...  \n",
       "71   Join the StoryBots and the space travelers of ...  \n",
       "100  An intergalactic device transforms toy cars in...  \n",
       "114  A wealthy industrialist’s dangerous obsession ...  \n",
       "165  Three friends in their 70s step out of retirem...  \n",
       "169  A tidal wave spells disaster for a ship of New...  \n",
       "204  An aspiring actor and a struggling DJ team up ...  \n",
       "219  Aboard the Edens Zero, a lonely boy with the a...  "
      ]
     },
     "execution_count": 293,
     "metadata": {},
     "output_type": "execute_result"
    }
   ],
   "source": [
    "netflix_simple.iloc[movie_indices]"
   ]
  },
  {
   "cell_type": "code",
   "execution_count": 104,
   "id": "6850a029",
   "metadata": {},
   "outputs": [
    {
     "data": {
      "text/html": [
       "<div>\n",
       "<style scoped>\n",
       "    .dataframe tbody tr th:only-of-type {\n",
       "        vertical-align: middle;\n",
       "    }\n",
       "\n",
       "    .dataframe tbody tr th {\n",
       "        vertical-align: top;\n",
       "    }\n",
       "\n",
       "    .dataframe thead th {\n",
       "        text-align: right;\n",
       "    }\n",
       "</style>\n",
       "<table border=\"1\" class=\"dataframe\">\n",
       "  <thead>\n",
       "    <tr style=\"text-align: right;\">\n",
       "      <th></th>\n",
       "      <th>index</th>\n",
       "      <th>show_id</th>\n",
       "      <th>type</th>\n",
       "      <th>title</th>\n",
       "      <th>director</th>\n",
       "      <th>cast</th>\n",
       "      <th>country</th>\n",
       "      <th>rating</th>\n",
       "      <th>listed_in</th>\n",
       "      <th>description</th>\n",
       "    </tr>\n",
       "  </thead>\n",
       "  <tbody>\n",
       "    <tr>\n",
       "      <th>5244</th>\n",
       "      <td>5244</td>\n",
       "      <td>s5245</td>\n",
       "      <td>TV Show</td>\n",
       "      <td>Star Trek: Enterprise</td>\n",
       "      <td></td>\n",
       "      <td>Scott Bakula, John Billingsley, Jolene Blalock...</td>\n",
       "      <td>United States</td>\n",
       "      <td>TV-14</td>\n",
       "      <td>Classic &amp; Cult TV, TV Action &amp; Adventure, TV S...</td>\n",
       "      <td>Capt. Archer and his crew explore space and di...</td>\n",
       "    </tr>\n",
       "    <tr>\n",
       "      <th>5650</th>\n",
       "      <td>5650</td>\n",
       "      <td>s5651</td>\n",
       "      <td>TV Show</td>\n",
       "      <td>Star Trek: Deep Space Nine</td>\n",
       "      <td></td>\n",
       "      <td>Avery Brooks, Nana Visitor, Rene Auberjonois, ...</td>\n",
       "      <td>United States</td>\n",
       "      <td>TV-14</td>\n",
       "      <td>TV Action &amp; Adventure, TV Sci-Fi &amp; Fantasy</td>\n",
       "      <td>In this \"Star Trek\" spin-off, Commander Sisko ...</td>\n",
       "    </tr>\n",
       "    <tr>\n",
       "      <th>594</th>\n",
       "      <td>594</td>\n",
       "      <td>s595</td>\n",
       "      <td>Movie</td>\n",
       "      <td>Star Trek</td>\n",
       "      <td>J.J. Abrams</td>\n",
       "      <td>Chris Pine, Zachary Quinto, Karl Urban, Zoe Sa...</td>\n",
       "      <td>United States, Germany</td>\n",
       "      <td>PG-13</td>\n",
       "      <td>Action &amp; Adventure, Sci-Fi &amp; Fantasy</td>\n",
       "      <td>On their first voyage aboard the starship Ente...</td>\n",
       "    </tr>\n",
       "    <tr>\n",
       "      <th>5245</th>\n",
       "      <td>5245</td>\n",
       "      <td>s5246</td>\n",
       "      <td>TV Show</td>\n",
       "      <td>Star Trek: Voyager</td>\n",
       "      <td></td>\n",
       "      <td>Kate Mulgrew, Robert Beltran, Roxann Dawson, J...</td>\n",
       "      <td>United States</td>\n",
       "      <td>TV-PG</td>\n",
       "      <td>TV Action &amp; Adventure, TV Sci-Fi &amp; Fantasy</td>\n",
       "      <td>On Voyager's 75-year journey back to Earth, th...</td>\n",
       "    </tr>\n",
       "    <tr>\n",
       "      <th>8586</th>\n",
       "      <td>8586</td>\n",
       "      <td>s8587</td>\n",
       "      <td>Movie</td>\n",
       "      <td>Thumper</td>\n",
       "      <td>Jordan Ross</td>\n",
       "      <td>Eliza Taylor, Pablo Schreiber, Daniel Webber, ...</td>\n",
       "      <td>United States</td>\n",
       "      <td>TV-MA</td>\n",
       "      <td>Dramas, Thrillers</td>\n",
       "      <td>After moving to a hardscrabble suburban Califo...</td>\n",
       "    </tr>\n",
       "    <tr>\n",
       "      <th>2005</th>\n",
       "      <td>2005</td>\n",
       "      <td>s2006</td>\n",
       "      <td>Movie</td>\n",
       "      <td>Lara and the Beat</td>\n",
       "      <td>Tosin Coker</td>\n",
       "      <td>Seyi Shay, Somkele Iyamah, Vector, Chioma Chuk...</td>\n",
       "      <td>Nigeria</td>\n",
       "      <td>TV-MA</td>\n",
       "      <td>Dramas, International Movies, Music &amp; Musicals</td>\n",
       "      <td>When their glamorous, fast-paced lifestyle com...</td>\n",
       "    </tr>\n",
       "    <tr>\n",
       "      <th>956</th>\n",
       "      <td>956</td>\n",
       "      <td>s957</td>\n",
       "      <td>Movie</td>\n",
       "      <td>Zack and Miri Make a Porno</td>\n",
       "      <td>Kevin Smith</td>\n",
       "      <td>Seth Rogen, Elizabeth Banks, Craig Robinson, J...</td>\n",
       "      <td>United States</td>\n",
       "      <td>R</td>\n",
       "      <td>Comedies, Independent Movies, Romantic Movies</td>\n",
       "      <td>Zack and Miri make and star in an adult film t...</td>\n",
       "    </tr>\n",
       "    <tr>\n",
       "      <th>5693</th>\n",
       "      <td>5693</td>\n",
       "      <td>s5694</td>\n",
       "      <td>Movie</td>\n",
       "      <td>For the Love of Spock</td>\n",
       "      <td>Adam Nimoy</td>\n",
       "      <td>Leonard Nimoy, William Shatner, George Takei, ...</td>\n",
       "      <td>Canada, United States</td>\n",
       "      <td>TV-14</td>\n",
       "      <td>Documentaries</td>\n",
       "      <td>The son of actor Leonard Nimoy directs this mo...</td>\n",
       "    </tr>\n",
       "    <tr>\n",
       "      <th>4652</th>\n",
       "      <td>4652</td>\n",
       "      <td>s4653</td>\n",
       "      <td>TV Show</td>\n",
       "      <td>Transformers: Robots in Disguise</td>\n",
       "      <td></td>\n",
       "      <td>Will Friedle, Darren Criss, Constance Zimmer, ...</td>\n",
       "      <td>United States</td>\n",
       "      <td>TV-Y7</td>\n",
       "      <td>Kids' TV</td>\n",
       "      <td>When a prison ship crash unleashes hundreds of...</td>\n",
       "    </tr>\n",
       "  </tbody>\n",
       "</table>\n",
       "</div>"
      ],
      "text/plain": [
       "      index show_id     type                             title     director  \\\n",
       "5244   5244   s5245  TV Show             Star Trek: Enterprise                \n",
       "5650   5650   s5651  TV Show        Star Trek: Deep Space Nine                \n",
       "594     594    s595    Movie                         Star Trek  J.J. Abrams   \n",
       "5245   5245   s5246  TV Show                Star Trek: Voyager                \n",
       "8586   8586   s8587    Movie                           Thumper  Jordan Ross   \n",
       "2005   2005   s2006    Movie                 Lara and the Beat  Tosin Coker   \n",
       "956     956    s957    Movie        Zack and Miri Make a Porno  Kevin Smith   \n",
       "5693   5693   s5694    Movie             For the Love of Spock   Adam Nimoy   \n",
       "4652   4652   s4653  TV Show  Transformers: Robots in Disguise                \n",
       "\n",
       "                                                   cast  \\\n",
       "5244  Scott Bakula, John Billingsley, Jolene Blalock...   \n",
       "5650  Avery Brooks, Nana Visitor, Rene Auberjonois, ...   \n",
       "594   Chris Pine, Zachary Quinto, Karl Urban, Zoe Sa...   \n",
       "5245  Kate Mulgrew, Robert Beltran, Roxann Dawson, J...   \n",
       "8586  Eliza Taylor, Pablo Schreiber, Daniel Webber, ...   \n",
       "2005  Seyi Shay, Somkele Iyamah, Vector, Chioma Chuk...   \n",
       "956   Seth Rogen, Elizabeth Banks, Craig Robinson, J...   \n",
       "5693  Leonard Nimoy, William Shatner, George Takei, ...   \n",
       "4652  Will Friedle, Darren Criss, Constance Zimmer, ...   \n",
       "\n",
       "                     country rating  \\\n",
       "5244           United States  TV-14   \n",
       "5650           United States  TV-14   \n",
       "594   United States, Germany  PG-13   \n",
       "5245           United States  TV-PG   \n",
       "8586           United States  TV-MA   \n",
       "2005                 Nigeria  TV-MA   \n",
       "956            United States      R   \n",
       "5693   Canada, United States  TV-14   \n",
       "4652           United States  TV-Y7   \n",
       "\n",
       "                                              listed_in  \\\n",
       "5244  Classic & Cult TV, TV Action & Adventure, TV S...   \n",
       "5650         TV Action & Adventure, TV Sci-Fi & Fantasy   \n",
       "594                Action & Adventure, Sci-Fi & Fantasy   \n",
       "5245         TV Action & Adventure, TV Sci-Fi & Fantasy   \n",
       "8586                                  Dramas, Thrillers   \n",
       "2005     Dramas, International Movies, Music & Musicals   \n",
       "956       Comedies, Independent Movies, Romantic Movies   \n",
       "5693                                      Documentaries   \n",
       "4652                                           Kids' TV   \n",
       "\n",
       "                                            description  \n",
       "5244  Capt. Archer and his crew explore space and di...  \n",
       "5650  In this \"Star Trek\" spin-off, Commander Sisko ...  \n",
       "594   On their first voyage aboard the starship Ente...  \n",
       "5245  On Voyager's 75-year journey back to Earth, th...  \n",
       "8586  After moving to a hardscrabble suburban Califo...  \n",
       "2005  When their glamorous, fast-paced lifestyle com...  \n",
       "956   Zack and Miri make and star in an adult film t...  \n",
       "5693  The son of actor Leonard Nimoy directs this mo...  \n",
       "4652  When a prison ship crash unleashes hundreds of...  "
      ]
     },
     "execution_count": 104,
     "metadata": {},
     "output_type": "execute_result"
    }
   ],
   "source": [
    "row2 = sim_titledesc[index]\n",
    "\n",
    "sim_scores = list(enumerate(row2))\n",
    "\n",
    "sim_scores = sorted(sim_scores, key=lambda x: x[1], reverse=True)\n",
    "\n",
    "closest_matches2 = sim_scores[1:10]\n",
    "                             \n",
    "movie_indices = [i[0] for i in closest_matches2]\n",
    "\n",
    "contenders2 = np.array(closest_matches2)\n",
    "                             \n",
    "netflix_simple.iloc[movie_indices]"
   ]
  },
  {
   "cell_type": "code",
   "execution_count": 103,
   "id": "dc7726b9",
   "metadata": {},
   "outputs": [
    {
     "data": {
      "text/plain": [
       "array([[ 908.        ,    1.        ],\n",
       "       [1779.        ,    1.        ],\n",
       "       [2405.        ,    1.        ],\n",
       "       [2470.        ,    1.        ],\n",
       "       [3615.        ,    1.        ],\n",
       "       [4946.        ,    1.        ],\n",
       "       [5245.        ,    1.        ],\n",
       "       [5650.        ,    1.        ],\n",
       "       [3674.        ,    0.92786103]])"
      ]
     },
     "execution_count": 103,
     "metadata": {},
     "output_type": "execute_result"
    }
   ],
   "source": [
    "contenders"
   ]
  },
  {
   "cell_type": "code",
   "execution_count": 105,
   "id": "b7a9e0ec",
   "metadata": {},
   "outputs": [
    {
     "data": {
      "text/plain": [
       "array([[5244.        ,    0.20736046],\n",
       "       [5650.        ,    0.11901829],\n",
       "       [ 594.        ,    0.10358936],\n",
       "       [5245.        ,    0.08648629],\n",
       "       [8586.        ,    0.065304  ],\n",
       "       [2005.        ,    0.05835767],\n",
       "       [ 956.        ,    0.05614262],\n",
       "       [5693.        ,    0.05493923],\n",
       "       [4652.        ,    0.05028207]])"
      ]
     },
     "execution_count": 105,
     "metadata": {},
     "output_type": "execute_result"
    }
   ],
   "source": [
    "contenders2"
   ]
  },
  {
   "cell_type": "code",
   "execution_count": 123,
   "id": "545cde1f",
   "metadata": {},
   "outputs": [
    {
     "data": {
      "text/plain": [
       "array([[ 908.        ,    1.        ],\n",
       "       [1779.        ,    1.        ],\n",
       "       [2405.        ,    1.        ],\n",
       "       [2470.        ,    1.        ],\n",
       "       [3615.        ,    1.        ],\n",
       "       [4946.        ,    1.        ],\n",
       "       [5245.        ,    1.        ],\n",
       "       [5650.        ,    1.        ],\n",
       "       [3674.        ,    0.92786103],\n",
       "       [5244.        ,    0.20736046],\n",
       "       [5650.        ,    0.11901829],\n",
       "       [ 594.        ,    0.10358936],\n",
       "       [5245.        ,    0.08648629],\n",
       "       [8586.        ,    0.065304  ],\n",
       "       [2005.        ,    0.05835767],\n",
       "       [ 956.        ,    0.05614262],\n",
       "       [5693.        ,    0.05493923],\n",
       "       [4652.        ,    0.05028207]])"
      ]
     },
     "execution_count": 123,
     "metadata": {},
     "output_type": "execute_result"
    }
   ],
   "source": [
    "test = np.concatenate((contenders, contenders2))\n",
    "\n",
    "test"
   ]
  },
  {
   "cell_type": "code",
   "execution_count": 163,
   "id": "171fa4cf",
   "metadata": {},
   "outputs": [],
   "source": [
    "net = test[:,0]\n",
    "\n",
    "finalists = np.zeros((len(test), 2))\n",
    "\n",
    "for i in range(len(net)):\n",
    "    ind = np.where(test[:,0] == net[i])\n",
    "    finalists[i,0] = net[i]\n",
    "    finalists[i,1] = np.sum(test[ind,1])\n",
    "    \n",
    "finalists = np.unique(finalists, axis = 0)"
   ]
  },
  {
   "cell_type": "code",
   "execution_count": 164,
   "id": "dc5100ec",
   "metadata": {},
   "outputs": [
    {
     "data": {
      "text/plain": [
       "array([[ 594.        ,    0.10358936],\n",
       "       [ 908.        ,    1.        ],\n",
       "       [ 956.        ,    0.05614262],\n",
       "       [1779.        ,    1.        ],\n",
       "       [2005.        ,    0.05835767],\n",
       "       [2405.        ,    1.        ],\n",
       "       [2470.        ,    1.        ],\n",
       "       [3615.        ,    1.        ],\n",
       "       [3674.        ,    0.92786103],\n",
       "       [4652.        ,    0.05028207],\n",
       "       [4946.        ,    1.        ],\n",
       "       [5244.        ,    0.20736046],\n",
       "       [5245.        ,    1.08648629],\n",
       "       [5650.        ,    1.11901829],\n",
       "       [5693.        ,    0.05493923],\n",
       "       [8586.        ,    0.065304  ]])"
      ]
     },
     "execution_count": 164,
     "metadata": {},
     "output_type": "execute_result"
    }
   ],
   "source": [
    "finalists"
   ]
  },
  {
   "cell_type": "code",
   "execution_count": 165,
   "id": "2331be77",
   "metadata": {},
   "outputs": [
    {
     "name": "stdout",
     "output_type": "stream",
     "text": [
      "(array([13], dtype=int64),)\n"
     ]
    }
   ],
   "source": [
    "print(np.where(finalists[:,1] == max(finalists[:,1])))"
   ]
  },
  {
   "cell_type": "code",
   "execution_count": 184,
   "id": "1d68c1f8",
   "metadata": {},
   "outputs": [
    {
     "data": {
      "text/plain": [
       "5650"
      ]
     },
     "execution_count": 184,
     "metadata": {},
     "output_type": "execute_result"
    }
   ],
   "source": [
    "ind = finalists[np.where(finalists[:,1] == max(finalists[:,1]))]\n",
    "\n",
    "ind = int(ind[0,0])\n",
    "\n",
    "ind"
   ]
  },
  {
   "cell_type": "code",
   "execution_count": 187,
   "id": "44f933c0",
   "metadata": {},
   "outputs": [
    {
     "data": {
      "text/plain": [
       "index                                                       5650\n",
       "show_id                                                    s5651\n",
       "type                                                     TV Show\n",
       "title                                 Star Trek: Deep Space Nine\n",
       "director                                                        \n",
       "cast           Avery Brooks, Nana Visitor, Rene Auberjonois, ...\n",
       "country                                            United States\n",
       "rating                                                     TV-14\n",
       "listed_in             TV Action & Adventure, TV Sci-Fi & Fantasy\n",
       "description    In this \"Star Trek\" spin-off, Commander Sisko ...\n",
       "Name: 5650, dtype: object"
      ]
     },
     "execution_count": 187,
     "metadata": {},
     "output_type": "execute_result"
    }
   ],
   "source": [
    "netflix_simple.iloc[ind]"
   ]
  }
 ],
 "metadata": {
  "kernelspec": {
   "display_name": "Python 3 (ipykernel)",
   "language": "python",
   "name": "python3"
  },
  "language_info": {
   "codemirror_mode": {
    "name": "ipython",
    "version": 3
   },
   "file_extension": ".py",
   "mimetype": "text/x-python",
   "name": "python",
   "nbconvert_exporter": "python",
   "pygments_lexer": "ipython3",
   "version": "3.9.7"
  }
 },
 "nbformat": 4,
 "nbformat_minor": 5
}
